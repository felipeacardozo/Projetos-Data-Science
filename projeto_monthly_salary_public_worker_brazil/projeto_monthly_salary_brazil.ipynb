{
 "cells": [
  {
   "cell_type": "markdown",
   "id": "29bd28a7",
   "metadata": {},
   "source": [
    "<h1><b><center>Salário Mensal do Servidor Público no Brasil</center></b></h1>"
   ]
  },
  {
   "cell_type": "markdown",
   "id": "1be09205",
   "metadata": {},
   "source": [
    "---\n",
    "<font size=\"2\" face=\"Verdana\"> O funcionarismo público tem sido por muitos anos a carreira que mais bem paga no mercado, muitas pessoas buscam como objetivo de vida, serem aprovados em concursos públicos. De fato é uma área que possui muitos benefícios e o governo tem por obrigação publicizar todos os dados e informações no que tange ao orçamento público a fim de manter a transparência para o contribuinte.\n",
    "    \n",
    "O Estado de **São Paulo**, objeto desta análise, abriga uma grande maioria de todo o funcionalismo público, principalmente por sua importância econômica para o país. Desta forma ao analisar os dados apresentados é possível identificar uma composição bem extensa de setores e áreas que englobam tais funcionários.\n",
    "\n",
    "Disto isso, apresento a seguir uma análise sobre a remuneração mensal, correspondente ao ano de 2017 dos servidores públicos do estado de São Paulo.\n",
    "    \n",
    "\n",
    "Por: **Felipe Alves Cardozo**\n",
    "</font>"
   ]
  },
  {
   "cell_type": "markdown",
   "id": "17e8315b",
   "metadata": {},
   "source": [
    "<p  align=center><br><img src='https://www.rapidocard.com.br/images/crachas-funcionarios-publicos.jpg' widht='100%' hight='40%'></p>"
   ]
  },
  {
   "cell_type": "markdown",
   "id": "416cca1b",
   "metadata": {},
   "source": [
    "# Importação dos Dados"
   ]
  },
  {
   "cell_type": "markdown",
   "id": "5785d23b",
   "metadata": {},
   "source": [
    "<font size=\"2\" face=\"Verdana\"> Como dito anteriormente, neste Projeto, irei analisar os dados de **Salários Mensais de Servidores Públicos** do estado de São Paulo do mês de outubro e do ano de **2017**, com base nos dados disponibilizados no kaggle, buscarei responder algumas perguntas como: \n",
    "    \n",
    "* Qual o cargo com maior e menor salário Mensal?\n",
    "* Qual o cargo com maior e menor salário Total?    \n",
    "* Qual o cargo mais presente no Dataset?\n",
    "* Qual o setor mais presente no Dataset?\n",
    "    \n",
    "Além de outras perguntas...\n",
    "    \n",
    "Farei também algumas representações gráficas dos dados, seguindo a convenção de **Storytelling**, proposta pela autora Cole Nussbaumer Knaflic, em seu livro de nome **Storytellyng com Dados**\n",
    "    \n",
    "Os dados podem ser obtidos clicando neste [Link](https://www.kaggle.com/datasets/gustavomodelli/monthly-salary-of-public-worker-in-brazil), ou diretamente no [Portal da Transparência](http://www.transparencia.sp.gov.br/buscaRemunera.html)\n",
    "</font>"
   ]
  },
  {
   "cell_type": "markdown",
   "id": "43496b9e",
   "metadata": {},
   "source": [
    "<font size=\"2\" face=\"Verdana\">O primeiro passo é a Importação das bibliotecas a serem utilizadas, no caso do presente projeto, importaremos a biblioteca **Pandas**, **Matplotlib**, **Seaborn**, **csv** e **warnings** </font>"
   ]
  },
  {
   "cell_type": "code",
   "execution_count": 221,
   "id": "36bb5c09",
   "metadata": {},
   "outputs": [],
   "source": [
    "# Importando as Libs necessárias\n",
    "import pandas as pd\n",
    "import matplotlib.pyplot as plt\n",
    "import seaborn as sns\n",
    "import csv\n",
    "import warnings\n",
    "\n",
    "warnings.filterwarnings('ignore') # Configuração para ignorar alertas\n",
    "pd.options.display.float_format='{:2f}'.format # Format"
   ]
  },
  {
   "cell_type": "markdown",
   "id": "9a767258",
   "metadata": {},
   "source": [
    "<font size=\"2\" face=\"Verdana\"> O Dataset  no qual trabalharei é composto por um arquivo com **Dez** colunas, dos quais representam os seguintes significados: \n",
    "    \n",
    "**Dicionário das Váriáveis**\n",
    " \n",
    "1. `id:` São identificadores criados para anonimização dos dados\n",
    "2. `job:` Identifica o nome do cargo exercido\n",
    "3. `sector:` É o setor no qual o funcionário exerce o cargo\n",
    "4. `monthy_salary:` Salário mensal do funcionário\n",
    "5. `13_salary:` Corresponde ao 13º salário \n",
    "6. `eventual_salary:` Representa algum ganho em bônus\n",
    "7. `indeminity:` Corresponde a alguma indenização que o funcionário possa ter recebido\n",
    "8. `extra_salary:` Corresponde a algum salário extra que o funcionário possa ter recebido\n",
    "9. `discount_salary:` Algum desconto que possa ter sido aplicado no salário\n",
    "10. `total_salary:` Salário total incluindo bonificações e descontos\n",
    "    \n",
    "    \n",
    "</font> "
   ]
  },
  {
   "attachments": {},
   "cell_type": "markdown",
   "id": "00a4e18b",
   "metadata": {},
   "source": [
    "<font size=\"2\" face=\"Verdana\"> <p style=\"color:red\">**Importante!** </p><br>\n",
    "Antes da importação do Dataset, percebi uma inconsistência em algumas colunas. Alguns cargos na coluna **job** tem em sua descrição uma vírgula no meio do cargo, por exemplo: **\"TEC MANUT., PROJETOS E OBRAS\"**, isso acaba se tornando um problema e impedindo a correta leitura, pois as demais colunas são separadas por vírgulas no arquivo, com essa vírgula no meio do cargo a coluna seguinte é preenchida com o dado e \"empurra\" as informações das outras colunas, gerando uma coluna extra não mapeada por um cabeçalho.\n",
    "    \n",
    "Para reverter isso escolhi trabalhar com a biblioteca **csv** tendo em vista que o pandas já tenta abrir o arquivo como primeira ação.\n",
    "</font> "
   ]
  },
  {
   "cell_type": "code",
   "execution_count": 30,
   "id": "5659118d",
   "metadata": {},
   "outputs": [],
   "source": [
    "# lendo o dataset e atribuindo a uma variável\n",
    "with open('monthly_salary_brazil.csv', 'r') as arquivo:\n",
    "    dados = arquivo.read()"
   ]
  },
  {
   "cell_type": "markdown",
   "id": "b1b14b85",
   "metadata": {},
   "source": [
    "<font size=\"2\" face=\"Verdana\"> Em seguida, após identificar que apenas 4 cargos apresentavam o problema, realizei a substituição do texto errado, com a virgula, para o texto correto, sem virgula. Logo em seguida, criei um novo arquivo com os dados corrigidos.\n",
    "</font> "
   ]
  },
  {
   "cell_type": "code",
   "execution_count": 32,
   "id": "1bde10eb",
   "metadata": {
    "code_folding": []
   },
   "outputs": [],
   "source": [
    "# Alterando os cargos incorretos \n",
    "# Cargos antigos com erro\n",
    "Cargo01 = \"TEC MANUT., PROJETOS E OBRAS\"\n",
    "Cargo02 = \"TEC MANUT, PROJETOS E OBRAS\"\n",
    "Cargo03 = \"ESPEC EM PLAN EDUC,OBR E GESTAO\"\n",
    "Cargo04 = \"SUPERVISOR-DES PES,CARGOS SAL\"\n",
    "\n",
    "# Novos cargos corrigidos\n",
    "CorrecaoCargo01 = \"TEC MANUT PROJETOS E OBRAS\"\n",
    "CorrecaoCargo02 = \"TEC MANUT PROJETOS E OBRAS\"\n",
    "CorrecaoCargo03 = \"ESPEC EM PLAN EDUC OBR E GESTAO\"\n",
    "CorrecaoCargo04 = \"SUPERVISOR-DES PES CARGOS SAL\"\n",
    "\n",
    "# Alterando as informações de cargo \n",
    "dados = dados.replace(Cargo01,CorrecaoCargo01)\n",
    "dados = dados.replace(Cargo02,CorrecaoCargo02)\n",
    "dados = dados.replace(Cargo03,CorrecaoCargo03)\n",
    "dados = dados.replace(Cargo04,CorrecaoCargo04)\n",
    "\n",
    "\n",
    "# Salvando o arquivo corrigido\n",
    "with open(r'monthly_salary_brazil.csv', 'w') as arquivo:\n",
    "    arquivo.write(dados)"
   ]
  },
  {
   "cell_type": "markdown",
   "id": "19bb846e",
   "metadata": {},
   "source": [
    "<font size=\"2\" face=\"Verdana\"> Agora sim, com a correção poderei trabalhar com a biblioteca pandas a fim de manipular os dados com mais ferramentas.\n",
    "</font> "
   ]
  },
  {
   "cell_type": "code",
   "execution_count": 222,
   "id": "c9b61e59",
   "metadata": {},
   "outputs": [
    {
     "data": {
      "text/html": [
       "<div>\n",
       "<style scoped>\n",
       "    .dataframe tbody tr th:only-of-type {\n",
       "        vertical-align: middle;\n",
       "    }\n",
       "\n",
       "    .dataframe tbody tr th {\n",
       "        vertical-align: top;\n",
       "    }\n",
       "\n",
       "    .dataframe thead th {\n",
       "        text-align: right;\n",
       "    }\n",
       "</style>\n",
       "<table border=\"1\" class=\"dataframe\">\n",
       "  <thead>\n",
       "    <tr style=\"text-align: right;\">\n",
       "      <th></th>\n",
       "      <th>Id</th>\n",
       "      <th>job</th>\n",
       "      <th>sector</th>\n",
       "      <th>Month_salary</th>\n",
       "      <th>13_salary</th>\n",
       "      <th>eventual_salary</th>\n",
       "      <th>indemnity</th>\n",
       "      <th>extra_salary</th>\n",
       "      <th>discount_salary</th>\n",
       "      <th>total_salary</th>\n",
       "    </tr>\n",
       "  </thead>\n",
       "  <tbody>\n",
       "    <tr>\n",
       "      <th>0</th>\n",
       "      <td>1</td>\n",
       "      <td>OFICIAL ADMINISTRATIVO</td>\n",
       "      <td>DETRAN</td>\n",
       "      <td>2315.810000</td>\n",
       "      <td>0.000000</td>\n",
       "      <td>0.000000</td>\n",
       "      <td>0.000000</td>\n",
       "      <td>73.850000</td>\n",
       "      <td>0.000000</td>\n",
       "      <td>1929.340000</td>\n",
       "    </tr>\n",
       "    <tr>\n",
       "      <th>1</th>\n",
       "      <td>2</td>\n",
       "      <td>SD 2C PM</td>\n",
       "      <td>PM</td>\n",
       "      <td>3034.050000</td>\n",
       "      <td>0.000000</td>\n",
       "      <td>0.000000</td>\n",
       "      <td>0.000000</td>\n",
       "      <td>651.820000</td>\n",
       "      <td>0.000000</td>\n",
       "      <td>2265.960000</td>\n",
       "    </tr>\n",
       "    <tr>\n",
       "      <th>2</th>\n",
       "      <td>3</td>\n",
       "      <td>1TEN  PM</td>\n",
       "      <td>PM</td>\n",
       "      <td>8990.980000</td>\n",
       "      <td>0.000000</td>\n",
       "      <td>0.000000</td>\n",
       "      <td>0.000000</td>\n",
       "      <td>626.750000</td>\n",
       "      <td>0.000000</td>\n",
       "      <td>6933.040000</td>\n",
       "    </tr>\n",
       "    <tr>\n",
       "      <th>3</th>\n",
       "      <td>4</td>\n",
       "      <td>MAJ   PM</td>\n",
       "      <td>SPPREV</td>\n",
       "      <td>13591.020000</td>\n",
       "      <td>0.000000</td>\n",
       "      <td>0.000000</td>\n",
       "      <td>0.000000</td>\n",
       "      <td>0.000000</td>\n",
       "      <td>0.000000</td>\n",
       "      <td>10568.360000</td>\n",
       "    </tr>\n",
       "    <tr>\n",
       "      <th>4</th>\n",
       "      <td>5</td>\n",
       "      <td>AG.TEC. DE ASSIT. A SAUDE</td>\n",
       "      <td>HCFMUSP</td>\n",
       "      <td>4203.670000</td>\n",
       "      <td>0.000000</td>\n",
       "      <td>0.000000</td>\n",
       "      <td>0.000000</td>\n",
       "      <td>0.000000</td>\n",
       "      <td>0.000000</td>\n",
       "      <td>3561.880000</td>\n",
       "    </tr>\n",
       "  </tbody>\n",
       "</table>\n",
       "</div>"
      ],
      "text/plain": [
       "   Id                        job   sector  Month_salary  13_salary  \\\n",
       "0   1     OFICIAL ADMINISTRATIVO   DETRAN   2315.810000   0.000000   \n",
       "1   2                   SD 2C PM       PM   3034.050000   0.000000   \n",
       "2   3                   1TEN  PM       PM   8990.980000   0.000000   \n",
       "3   4                   MAJ   PM   SPPREV  13591.020000   0.000000   \n",
       "4   5  AG.TEC. DE ASSIT. A SAUDE  HCFMUSP   4203.670000   0.000000   \n",
       "\n",
       "   eventual_salary  indemnity  extra_salary  discount_salary  total_salary  \n",
       "0         0.000000   0.000000     73.850000         0.000000   1929.340000  \n",
       "1         0.000000   0.000000    651.820000         0.000000   2265.960000  \n",
       "2         0.000000   0.000000    626.750000         0.000000   6933.040000  \n",
       "3         0.000000   0.000000      0.000000         0.000000  10568.360000  \n",
       "4         0.000000   0.000000      0.000000         0.000000   3561.880000  "
      ]
     },
     "execution_count": 222,
     "metadata": {},
     "output_type": "execute_result"
    }
   ],
   "source": [
    "# Lendo os dados alterado com o Pandas\n",
    "dataset = pd.read_csv('monthly_salary_brazil.csv');\n",
    "\n",
    "# Verificando o dataset\n",
    "dataset.head()"
   ]
  },
  {
   "cell_type": "markdown",
   "id": "fd4bee86",
   "metadata": {},
   "source": [
    "# Análise Exploratória dos Dados"
   ]
  },
  {
   "cell_type": "markdown",
   "id": "deda4505",
   "metadata": {},
   "source": [
    "O Dataset em questão possui **1.085.678** linhas e **10** colunas, representando dados de **salários de funcionários públicos** do mês de **Outubro** do ano de **2017** do estado de **São Paulo**."
   ]
  },
  {
   "cell_type": "code",
   "execution_count": 223,
   "id": "077343bd",
   "metadata": {},
   "outputs": [
    {
     "name": "stdout",
     "output_type": "stream",
     "text": [
      "DIMENSÕES DO DATAFRAME: \n",
      "\n",
      "O dataset Possui 1085678 Linhas\n",
      "O dataset Possui 10 Colunas\n"
     ]
    }
   ],
   "source": [
    "# Exibindo as informações de dimensão dos dados\n",
    "print('DIMENSÕES DO DATAFRAME: \\n')\n",
    "print(f'O dataset Possui {dataset.shape[0]} Linhas')\n",
    "print(f'O dataset Possui {dataset.shape[1]} Colunas')"
   ]
  },
  {
   "cell_type": "markdown",
   "id": "7c54cfd1",
   "metadata": {},
   "source": [
    "<font size=\"2\" face=\"Verdana\">Utilizando o método **info()** vemos que o Dataset **não** possui valores completos na coluna **job**, este é um resumo mais abrangente das informações dos dados, destacando o índice, o nome, a contagem total de valores não nulos e os tipos de cada coluna, nesta respectiva ordem.</font>"
   ]
  },
  {
   "cell_type": "code",
   "execution_count": 42,
   "id": "fe13d860",
   "metadata": {},
   "outputs": [
    {
     "name": "stdout",
     "output_type": "stream",
     "text": [
      "<class 'pandas.core.frame.DataFrame'>\n",
      "RangeIndex: 1085678 entries, 0 to 1085677\n",
      "Data columns (total 10 columns):\n",
      " #   Column           Non-Null Count    Dtype  \n",
      "---  ------           --------------    -----  \n",
      " 0   Id               1085678 non-null  int64  \n",
      " 1   job              1085650 non-null  object \n",
      " 2   sector           1085678 non-null  object \n",
      " 3   Month_salary     1085678 non-null  float64\n",
      " 4   13_salary        1085678 non-null  float64\n",
      " 5   eventual_salary  1085678 non-null  float64\n",
      " 6   indemnity        1085678 non-null  float64\n",
      " 7   extra_salary     1085678 non-null  float64\n",
      " 8   discount_salary  1085678 non-null  float64\n",
      " 9   total_salary     1085678 non-null  float64\n",
      "dtypes: float64(7), int64(1), object(2)\n",
      "memory usage: 82.8+ MB\n"
     ]
    }
   ],
   "source": [
    "# Resumo Geral das informações do Dataset\n",
    "dataset.info()"
   ]
  },
  {
   "cell_type": "markdown",
   "id": "00d4b264",
   "metadata": {},
   "source": [
    "<font size=\"2\" face=\"Verdana\">Com o método **isnull()** e utilizando a soma dos valores nulos vemos que a coluna **job**, Possui **28 linhas faltantes**.</font>"
   ]
  },
  {
   "cell_type": "code",
   "execution_count": 44,
   "id": "6bcfbc37",
   "metadata": {},
   "outputs": [
    {
     "data": {
      "text/plain": [
       "Id                  0\n",
       "job                28\n",
       "sector              0\n",
       "Month_salary        0\n",
       "13_salary           0\n",
       "eventual_salary     0\n",
       "indemnity           0\n",
       "extra_salary        0\n",
       "discount_salary     0\n",
       "total_salary        0\n",
       "dtype: int64"
      ]
     },
     "execution_count": 44,
     "metadata": {},
     "output_type": "execute_result"
    }
   ],
   "source": [
    "# Conferindo os valores nulos\n",
    "dataset.isnull().sum()"
   ]
  },
  {
   "cell_type": "markdown",
   "id": "c6825e10",
   "metadata": {},
   "source": [
    "<font size=\"2\" face=\"Verdana\">Como o Dataset possui mais de **1 milhão** de registros e nenhuma outra coluna faltantes escolhi a remoção das linhas sem dados na coluna **job**.</font>"
   ]
  },
  {
   "cell_type": "code",
   "execution_count": 46,
   "id": "acec8ba1",
   "metadata": {},
   "outputs": [
    {
     "name": "stdout",
     "output_type": "stream",
     "text": [
      "Antes:\t  (1085678, 10)\n",
      "Depois:\t  (1085650, 10)\n"
     ]
    }
   ],
   "source": [
    "# removendo valores nulos\n",
    "shape_antes = dataset.shape\n",
    "print('Antes:\\t ', shape_antes)\n",
    "\n",
    "dataset.dropna(subset=['job'], inplace=True)\n",
    "\n",
    "shape_depois = dataset.shape\n",
    "print('Depois:\\t ', shape_depois)"
   ]
  },
  {
   "cell_type": "markdown",
   "id": "b9e099b1",
   "metadata": {},
   "source": [
    "<font size=\"2\" face=\"Verdana\">Conferindo novamente vê-se que o dataset **não possui** mais nenhum valor nulo.</font>"
   ]
  },
  {
   "cell_type": "code",
   "execution_count": 47,
   "id": "7ac68d8a",
   "metadata": {},
   "outputs": [
    {
     "data": {
      "text/plain": [
       "Id                 0\n",
       "job                0\n",
       "sector             0\n",
       "Month_salary       0\n",
       "13_salary          0\n",
       "eventual_salary    0\n",
       "indemnity          0\n",
       "extra_salary       0\n",
       "discount_salary    0\n",
       "total_salary       0\n",
       "dtype: int64"
      ]
     },
     "execution_count": 47,
     "metadata": {},
     "output_type": "execute_result"
    }
   ],
   "source": [
    "# Conferindo novamente os valores nulos\n",
    "dataset.isnull().sum()"
   ]
  },
  {
   "cell_type": "markdown",
   "id": "1f28161f",
   "metadata": {},
   "source": [
    "<font size=\"2\" face=\"Verdana\">A Próxima etapa da análise é a impressão do resumo estatístico das colunas com valores numéricos utilizando o método **describe()**, nesse caso temos sete colunas e uma correspondente ao Id que pode ser ignorada.\n",
    "    \n",
    "É possível observar muitos valores incopatíveis, principalmente se comparar com a coluna **`total_salary`**, onde colunas de 13º, salário extra, indenização e desconto não impactam no valor final, o que denota a não correlação dos valores.\n",
    "\n",
    "</font>"
   ]
  },
  {
   "cell_type": "code",
   "execution_count": 98,
   "id": "9e06f82b",
   "metadata": {
    "scrolled": true
   },
   "outputs": [
    {
     "data": {
      "text/html": [
       "<div>\n",
       "<style scoped>\n",
       "    .dataframe tbody tr th:only-of-type {\n",
       "        vertical-align: middle;\n",
       "    }\n",
       "\n",
       "    .dataframe tbody tr th {\n",
       "        vertical-align: top;\n",
       "    }\n",
       "\n",
       "    .dataframe thead th {\n",
       "        text-align: right;\n",
       "    }\n",
       "</style>\n",
       "<table border=\"1\" class=\"dataframe\">\n",
       "  <thead>\n",
       "    <tr style=\"text-align: right;\">\n",
       "      <th></th>\n",
       "      <th>Id</th>\n",
       "      <th>Month_salary</th>\n",
       "      <th>13_salary</th>\n",
       "      <th>eventual_salary</th>\n",
       "      <th>indemnity</th>\n",
       "      <th>extra_salary</th>\n",
       "      <th>discount_salary</th>\n",
       "      <th>total_salary</th>\n",
       "    </tr>\n",
       "  </thead>\n",
       "  <tbody>\n",
       "    <tr>\n",
       "      <th>count</th>\n",
       "      <td>1085650.000000</td>\n",
       "      <td>1085650.000000</td>\n",
       "      <td>1085650.000000</td>\n",
       "      <td>1085650.000000</td>\n",
       "      <td>1085650.000000</td>\n",
       "      <td>1085650.000000</td>\n",
       "      <td>1085650.000000</td>\n",
       "      <td>1085650.000000</td>\n",
       "    </tr>\n",
       "    <tr>\n",
       "      <th>mean</th>\n",
       "      <td>542839.540885</td>\n",
       "      <td>4352.649613</td>\n",
       "      <td>217.199649</td>\n",
       "      <td>136.649835</td>\n",
       "      <td>17.663592</td>\n",
       "      <td>116.133979</td>\n",
       "      <td>-95.117335</td>\n",
       "      <td>3396.942450</td>\n",
       "    </tr>\n",
       "    <tr>\n",
       "      <th>std</th>\n",
       "      <td>313409.367522</td>\n",
       "      <td>4407.248427</td>\n",
       "      <td>1099.665435</td>\n",
       "      <td>1256.227158</td>\n",
       "      <td>886.150033</td>\n",
       "      <td>654.697952</td>\n",
       "      <td>1325.295281</td>\n",
       "      <td>3410.560582</td>\n",
       "    </tr>\n",
       "    <tr>\n",
       "      <th>min</th>\n",
       "      <td>1.000000</td>\n",
       "      <td>0.000000</td>\n",
       "      <td>-5298.810000</td>\n",
       "      <td>-18586.410000</td>\n",
       "      <td>-6729.780000</td>\n",
       "      <td>-26393.950000</td>\n",
       "      <td>-109497.230000</td>\n",
       "      <td>-47288.970000</td>\n",
       "    </tr>\n",
       "    <tr>\n",
       "      <th>25%</th>\n",
       "      <td>271418.250000</td>\n",
       "      <td>2113.900000</td>\n",
       "      <td>0.000000</td>\n",
       "      <td>0.000000</td>\n",
       "      <td>0.000000</td>\n",
       "      <td>0.000000</td>\n",
       "      <td>0.000000</td>\n",
       "      <td>1655.150000</td>\n",
       "    </tr>\n",
       "    <tr>\n",
       "      <th>50%</th>\n",
       "      <td>542839.500000</td>\n",
       "      <td>3384.880000</td>\n",
       "      <td>0.000000</td>\n",
       "      <td>0.000000</td>\n",
       "      <td>0.000000</td>\n",
       "      <td>0.000000</td>\n",
       "      <td>0.000000</td>\n",
       "      <td>2659.515000</td>\n",
       "    </tr>\n",
       "    <tr>\n",
       "      <th>75%</th>\n",
       "      <td>814259.750000</td>\n",
       "      <td>5077.465000</td>\n",
       "      <td>0.000000</td>\n",
       "      <td>0.000000</td>\n",
       "      <td>0.000000</td>\n",
       "      <td>95.840000</td>\n",
       "      <td>0.000000</td>\n",
       "      <td>3965.067500</td>\n",
       "    </tr>\n",
       "    <tr>\n",
       "      <th>max</th>\n",
       "      <td>1085678.000000</td>\n",
       "      <td>131128.280000</td>\n",
       "      <td>86381.120000</td>\n",
       "      <td>155861.780000</td>\n",
       "      <td>327498.030000</td>\n",
       "      <td>115174.830000</td>\n",
       "      <td>0.000000</td>\n",
       "      <td>342151.200000</td>\n",
       "    </tr>\n",
       "  </tbody>\n",
       "</table>\n",
       "</div>"
      ],
      "text/plain": [
       "                  Id   Month_salary      13_salary  eventual_salary  \\\n",
       "count 1085650.000000 1085650.000000 1085650.000000   1085650.000000   \n",
       "mean   542839.540885    4352.649613     217.199649       136.649835   \n",
       "std    313409.367522    4407.248427    1099.665435      1256.227158   \n",
       "min         1.000000       0.000000   -5298.810000    -18586.410000   \n",
       "25%    271418.250000    2113.900000       0.000000         0.000000   \n",
       "50%    542839.500000    3384.880000       0.000000         0.000000   \n",
       "75%    814259.750000    5077.465000       0.000000         0.000000   \n",
       "max   1085678.000000  131128.280000   86381.120000    155861.780000   \n",
       "\n",
       "           indemnity   extra_salary  discount_salary   total_salary  \n",
       "count 1085650.000000 1085650.000000   1085650.000000 1085650.000000  \n",
       "mean       17.663592     116.133979       -95.117335    3396.942450  \n",
       "std       886.150033     654.697952      1325.295281    3410.560582  \n",
       "min     -6729.780000  -26393.950000   -109497.230000  -47288.970000  \n",
       "25%         0.000000       0.000000         0.000000    1655.150000  \n",
       "50%         0.000000       0.000000         0.000000    2659.515000  \n",
       "75%         0.000000      95.840000         0.000000    3965.067500  \n",
       "max    327498.030000  115174.830000         0.000000  342151.200000  "
      ]
     },
     "execution_count": 98,
     "metadata": {},
     "output_type": "execute_result"
    }
   ],
   "source": [
    "dataset.describe()"
   ]
  },
  {
   "cell_type": "markdown",
   "id": "03d20c29",
   "metadata": {},
   "source": [
    "<font size=\"2\" face=\"Verdana\"> Verificando os valores únicos da coluna `sector` a fim de ter uma noção da diversidade de áreas disponíveis no dataset.  </font>"
   ]
  },
  {
   "cell_type": "code",
   "execution_count": 282,
   "id": "cb336369",
   "metadata": {},
   "outputs": [
    {
     "data": {
      "text/plain": [
       "array(['DETRAN', 'PM', 'SPPREV', 'HCFMUSP', 'ADM GERAL', 'EDUCACAO',\n",
       "       'PGE', 'SAP', 'PRODESP', 'SSP', 'FUND. CASA', 'SAUDE', 'CDHU',\n",
       "       'CPTM', 'METRO', 'DAEE', 'DAESP', 'SABESP', 'DER', 'SAA', 'HCFMRP',\n",
       "       'CEETEPS', 'PROCON', 'FAZENDA', 'SECRETARIA', 'FURP', 'ITESP',\n",
       "       'MEIO AMBIE', 'SUCEN', 'FDE', 'UNIVESP', 'ZOOLOGICO', 'IPT',\n",
       "       'IMESP', 'SDS', 'INSTITUTO', 'CESP', 'TRANSP. ME', 'EMTU',\n",
       "       'PRO-SANGUE', 'SEPLAN', 'CPOS', 'IPEM', 'FAMEMA', 'PE. ANCHIE',\n",
       "       'CETESB', 'DERSA', 'TURISMO', 'FUND. FLOR', 'EMAE', 'HCFMB',\n",
       "       'CULTURA', 'FMSJRPRETO', 'EMPLASA', 'JUSTICA', 'CODASP', 'FUNAP',\n",
       "       'SDECTI', 'CIA DOCAS', 'SERT', 'ESPORTE', 'CASA CIVIL',\n",
       "       'RECURSOS H', 'FAPESP', 'ENERGIA', 'JUCESP', 'MEMORIAL', 'IPESP',\n",
       "       'FOSP', 'HABITACAO', 'SEADE', 'DESENVOLVE', 'IMESC', 'ARSESP',\n",
       "       'SPPREVCOM', 'AGEMVALE', 'SDPD', 'ARTESP', 'TRANSPORTE', 'CPSEC',\n",
       "       'CBPM', 'AGEMCAMP', 'COSESP', 'CPP', 'AGEM', 'GAB GOV',\n",
       "       'SP.CLIN.FA'], dtype=object)"
      ]
     },
     "execution_count": 282,
     "metadata": {},
     "output_type": "execute_result"
    }
   ],
   "source": [
    "# Consultando os dados únicos da coluna sector\n",
    "dataset2['sector'].unique()"
   ]
  },
  {
   "cell_type": "code",
   "execution_count": 89,
   "id": "6ff10440",
   "metadata": {},
   "outputs": [],
   "source": [
    "# Criando uma cópia do dataset\n",
    "dataset2 = dataset.copy()"
   ]
  },
  {
   "cell_type": "markdown",
   "id": "b5b597c3",
   "metadata": {},
   "source": [
    "# Respondendo as perguntas"
   ]
  },
  {
   "cell_type": "markdown",
   "id": "5766d8e0",
   "metadata": {},
   "source": [
    "## 01 - Qual o cargo com maior salário total?"
   ]
  },
  {
   "cell_type": "markdown",
   "id": "8c58a3e3",
   "metadata": {},
   "source": [
    "<font size=\"2\" face=\"Verdana\"> Analisando os dados, pode-se verificar que o cargo com maior salário total, incluindo os demais pagamentos é o de **DELEGADO POLICIA CL.ESPECIAL** do setor **SPPREV**, o salário mensal nesse caso é de 22.084,75. No entanto foi registrado o valor de indenização no valor de 327.498,03, sendo o valor total de 324.151,20. Pelo valor da indenização ser bem alto, pode ter ocorrido um erro no registro dessa informação. Esse tipo de informação costuma exigir uma confirmação com a unidade responsável pelo registro. \n",
    "\n",
    "</font>"
   ]
  },
  {
   "cell_type": "code",
   "execution_count": 72,
   "id": "95de7358",
   "metadata": {},
   "outputs": [
    {
     "data": {
      "text/html": [
       "<div>\n",
       "<style scoped>\n",
       "    .dataframe tbody tr th:only-of-type {\n",
       "        vertical-align: middle;\n",
       "    }\n",
       "\n",
       "    .dataframe tbody tr th {\n",
       "        vertical-align: top;\n",
       "    }\n",
       "\n",
       "    .dataframe thead th {\n",
       "        text-align: right;\n",
       "    }\n",
       "</style>\n",
       "<table border=\"1\" class=\"dataframe\">\n",
       "  <thead>\n",
       "    <tr style=\"text-align: right;\">\n",
       "      <th></th>\n",
       "      <th>Id</th>\n",
       "      <th>job</th>\n",
       "      <th>sector</th>\n",
       "      <th>Month_salary</th>\n",
       "      <th>13_salary</th>\n",
       "      <th>eventual_salary</th>\n",
       "      <th>indemnity</th>\n",
       "      <th>extra_salary</th>\n",
       "      <th>discount_salary</th>\n",
       "      <th>total_salary</th>\n",
       "    </tr>\n",
       "  </thead>\n",
       "  <tbody>\n",
       "    <tr>\n",
       "      <th>83761</th>\n",
       "      <td>83762</td>\n",
       "      <td>DELEGADO POLICIA CL.ESPECIAL</td>\n",
       "      <td>SPPREV</td>\n",
       "      <td>22084.75</td>\n",
       "      <td>0.0</td>\n",
       "      <td>0.0</td>\n",
       "      <td>327498.03</td>\n",
       "      <td>0.0</td>\n",
       "      <td>-453.7</td>\n",
       "      <td>342151.2</td>\n",
       "    </tr>\n",
       "  </tbody>\n",
       "</table>\n",
       "</div>"
      ],
      "text/plain": [
       "          Id                           job  sector  Month_salary  13_salary  \\\n",
       "83761  83762  DELEGADO POLICIA CL.ESPECIAL  SPPREV      22084.75        0.0   \n",
       "\n",
       "       eventual_salary  indemnity  extra_salary  discount_salary  total_salary  \n",
       "83761              0.0  327498.03           0.0           -453.7      342151.2  "
      ]
     },
     "execution_count": 72,
     "metadata": {},
     "output_type": "execute_result"
    }
   ],
   "source": [
    "# Identificando o maior salário Total\n",
    "salario_max = dataset2.loc[dataset2['total_salary'] == dataset2['total_salary'].max()]\n",
    "salario_max"
   ]
  },
  {
   "cell_type": "markdown",
   "id": "c6d73b02",
   "metadata": {},
   "source": [
    "## 02 - Qual o cargo com menor salário total?"
   ]
  },
  {
   "cell_type": "markdown",
   "id": "2c298408",
   "metadata": {},
   "source": [
    "<font size=\"2\" face=\"Verdana\"> Analisando os dados, pode-se verificar que o cargo com menor salário total, incluindo os demais pagamentos é o de **ENGENHEIRO 19** do setor **SABESP**, o salário mensal nesse caso é de 3.360,06. No entanto valor total identificado foi de -47.288,97. Esta é uma das diversas incopatibilidades do dataset, onde, não existe nenhum desconto de salário e mesmo assim o valor é negativo.\n",
    "\n",
    "</font>"
   ]
  },
  {
   "cell_type": "code",
   "execution_count": 54,
   "id": "63ece2f7",
   "metadata": {},
   "outputs": [
    {
     "data": {
      "text/html": [
       "<div>\n",
       "<style scoped>\n",
       "    .dataframe tbody tr th:only-of-type {\n",
       "        vertical-align: middle;\n",
       "    }\n",
       "\n",
       "    .dataframe tbody tr th {\n",
       "        vertical-align: top;\n",
       "    }\n",
       "\n",
       "    .dataframe thead th {\n",
       "        text-align: right;\n",
       "    }\n",
       "</style>\n",
       "<table border=\"1\" class=\"dataframe\">\n",
       "  <thead>\n",
       "    <tr style=\"text-align: right;\">\n",
       "      <th></th>\n",
       "      <th>Id</th>\n",
       "      <th>job</th>\n",
       "      <th>sector</th>\n",
       "      <th>Month_salary</th>\n",
       "      <th>13_salary</th>\n",
       "      <th>eventual_salary</th>\n",
       "      <th>indemnity</th>\n",
       "      <th>extra_salary</th>\n",
       "      <th>discount_salary</th>\n",
       "      <th>total_salary</th>\n",
       "    </tr>\n",
       "  </thead>\n",
       "  <tbody>\n",
       "    <tr>\n",
       "      <th>458400</th>\n",
       "      <td>458401</td>\n",
       "      <td>ENGENHEIRO 19</td>\n",
       "      <td>SABESP</td>\n",
       "      <td>3360.06</td>\n",
       "      <td>0.0</td>\n",
       "      <td>0.0</td>\n",
       "      <td>0.0</td>\n",
       "      <td>0.0</td>\n",
       "      <td>0.0</td>\n",
       "      <td>-47288.97</td>\n",
       "    </tr>\n",
       "  </tbody>\n",
       "</table>\n",
       "</div>"
      ],
      "text/plain": [
       "            Id            job  sector  Month_salary  13_salary  \\\n",
       "458400  458401  ENGENHEIRO 19  SABESP       3360.06        0.0   \n",
       "\n",
       "        eventual_salary  indemnity  extra_salary  discount_salary  \\\n",
       "458400              0.0        0.0           0.0              0.0   \n",
       "\n",
       "        total_salary  \n",
       "458400     -47288.97  "
      ]
     },
     "execution_count": 54,
     "metadata": {},
     "output_type": "execute_result"
    }
   ],
   "source": [
    "# Identificando o menor salário Total\n",
    "salario_min = dataset2.loc[dataset2['total_salary'] == dataset2['total_salary'].min()]\n",
    "salario_min"
   ]
  },
  {
   "cell_type": "markdown",
   "id": "ce025d78",
   "metadata": {},
   "source": [
    "## 03 - Qual o cargo com maior salário mensal?"
   ]
  },
  {
   "cell_type": "markdown",
   "id": "5d700b28",
   "metadata": {},
   "source": [
    "<font size=\"2\" face=\"Verdana\"> No caso do maior salário mensal, outro valor exorbitante foi registrado, segundo o dataset, o cargo com maior salário mensal foi o de **ANALISTA TECNOLOGIA** do setor **DAEE**, no valor de 131.128,28, no entanto houve um desconto de 109.497,23 tornando o valor total 15.794,57, nesse caso, parece que o registro foi ajustado com o desconto.    \n",
    "    \n",
    "</font>"
   ]
  },
  {
   "cell_type": "code",
   "execution_count": 73,
   "id": "8527d4c8",
   "metadata": {},
   "outputs": [
    {
     "data": {
      "text/html": [
       "<div>\n",
       "<style scoped>\n",
       "    .dataframe tbody tr th:only-of-type {\n",
       "        vertical-align: middle;\n",
       "    }\n",
       "\n",
       "    .dataframe tbody tr th {\n",
       "        vertical-align: top;\n",
       "    }\n",
       "\n",
       "    .dataframe thead th {\n",
       "        text-align: right;\n",
       "    }\n",
       "</style>\n",
       "<table border=\"1\" class=\"dataframe\">\n",
       "  <thead>\n",
       "    <tr style=\"text-align: right;\">\n",
       "      <th></th>\n",
       "      <th>Id</th>\n",
       "      <th>job</th>\n",
       "      <th>sector</th>\n",
       "      <th>Month_salary</th>\n",
       "      <th>13_salary</th>\n",
       "      <th>eventual_salary</th>\n",
       "      <th>indemnity</th>\n",
       "      <th>extra_salary</th>\n",
       "      <th>discount_salary</th>\n",
       "      <th>total_salary</th>\n",
       "    </tr>\n",
       "  </thead>\n",
       "  <tbody>\n",
       "    <tr>\n",
       "      <th>34515</th>\n",
       "      <td>34516</td>\n",
       "      <td>ANALISTA TECNOLOGIA</td>\n",
       "      <td>DAEE</td>\n",
       "      <td>131128.28</td>\n",
       "      <td>0.0</td>\n",
       "      <td>0.0</td>\n",
       "      <td>0.0</td>\n",
       "      <td>0.0</td>\n",
       "      <td>-109497.23</td>\n",
       "      <td>15794.57</td>\n",
       "    </tr>\n",
       "  </tbody>\n",
       "</table>\n",
       "</div>"
      ],
      "text/plain": [
       "          Id                  job sector  Month_salary  13_salary  \\\n",
       "34515  34516  ANALISTA TECNOLOGIA   DAEE     131128.28        0.0   \n",
       "\n",
       "       eventual_salary  indemnity  extra_salary  discount_salary  total_salary  \n",
       "34515              0.0        0.0           0.0       -109497.23      15794.57  "
      ]
     },
     "execution_count": 73,
     "metadata": {},
     "output_type": "execute_result"
    }
   ],
   "source": [
    "# Identificando o maior salário mensal\n",
    "salario_mensal_max = dataset2.loc[dataset2['Month_salary'] == dataset2['Month_salary'].max()]\n",
    "salario_mensal_max"
   ]
  },
  {
   "cell_type": "markdown",
   "id": "680078ef",
   "metadata": {},
   "source": [
    "## 04 - Qual o cargo com menor salário mensal?"
   ]
  },
  {
   "cell_type": "markdown",
   "id": "35e1c032",
   "metadata": {},
   "source": [
    "<font size=\"2\" face=\"Verdana\"> No caso do menor salário mensal, desconsiderando os valores negativos temos um cargo de **MEDICO I** que está com todos valores zerados.\n",
    "</font>"
   ]
  },
  {
   "cell_type": "code",
   "execution_count": 109,
   "id": "50861927",
   "metadata": {
    "code_folding": []
   },
   "outputs": [
    {
     "data": {
      "text/html": [
       "<div>\n",
       "<style scoped>\n",
       "    .dataframe tbody tr th:only-of-type {\n",
       "        vertical-align: middle;\n",
       "    }\n",
       "\n",
       "    .dataframe tbody tr th {\n",
       "        vertical-align: top;\n",
       "    }\n",
       "\n",
       "    .dataframe thead th {\n",
       "        text-align: right;\n",
       "    }\n",
       "</style>\n",
       "<table border=\"1\" class=\"dataframe\">\n",
       "  <thead>\n",
       "    <tr style=\"text-align: right;\">\n",
       "      <th></th>\n",
       "      <th>Id</th>\n",
       "      <th>job</th>\n",
       "      <th>sector</th>\n",
       "      <th>Month_salary</th>\n",
       "      <th>13_salary</th>\n",
       "      <th>eventual_salary</th>\n",
       "      <th>indemnity</th>\n",
       "      <th>extra_salary</th>\n",
       "      <th>discount_salary</th>\n",
       "      <th>total_salary</th>\n",
       "    </tr>\n",
       "  </thead>\n",
       "  <tbody>\n",
       "    <tr>\n",
       "      <th>191</th>\n",
       "      <td>192</td>\n",
       "      <td>MEDICO I</td>\n",
       "      <td>SAUDE</td>\n",
       "      <td>0.000000</td>\n",
       "      <td>0.000000</td>\n",
       "      <td>0.000000</td>\n",
       "      <td>0.000000</td>\n",
       "      <td>0.000000</td>\n",
       "      <td>0.000000</td>\n",
       "      <td>0.000000</td>\n",
       "    </tr>\n",
       "    <tr>\n",
       "      <th>346</th>\n",
       "      <td>347</td>\n",
       "      <td>AGENTE DE AP SOCIOEDUCAT II</td>\n",
       "      <td>FUND. CASA</td>\n",
       "      <td>0.000000</td>\n",
       "      <td>5059.880000</td>\n",
       "      <td>202.370000</td>\n",
       "      <td>0.000000</td>\n",
       "      <td>0.000000</td>\n",
       "      <td>0.000000</td>\n",
       "      <td>0.000000</td>\n",
       "    </tr>\n",
       "    <tr>\n",
       "      <th>1105</th>\n",
       "      <td>1106</td>\n",
       "      <td>AGENTE DE AP SOCIOEDUCAT I</td>\n",
       "      <td>FUND. CASA</td>\n",
       "      <td>0.000000</td>\n",
       "      <td>0.000000</td>\n",
       "      <td>9123.570000</td>\n",
       "      <td>0.000000</td>\n",
       "      <td>0.000000</td>\n",
       "      <td>0.000000</td>\n",
       "      <td>0.000000</td>\n",
       "    </tr>\n",
       "    <tr>\n",
       "      <th>1181</th>\n",
       "      <td>1182</td>\n",
       "      <td>CABO  PM</td>\n",
       "      <td>PM</td>\n",
       "      <td>0.000000</td>\n",
       "      <td>0.000000</td>\n",
       "      <td>211.820000</td>\n",
       "      <td>0.000000</td>\n",
       "      <td>0.000000</td>\n",
       "      <td>0.000000</td>\n",
       "      <td>188.520000</td>\n",
       "    </tr>\n",
       "    <tr>\n",
       "      <th>1270</th>\n",
       "      <td>1271</td>\n",
       "      <td>ENCARREGADO DE ESTACAO</td>\n",
       "      <td>CPTM</td>\n",
       "      <td>0.000000</td>\n",
       "      <td>0.000000</td>\n",
       "      <td>3127.150000</td>\n",
       "      <td>0.000000</td>\n",
       "      <td>0.000000</td>\n",
       "      <td>0.000000</td>\n",
       "      <td>2936.420000</td>\n",
       "    </tr>\n",
       "    <tr>\n",
       "      <th>1593</th>\n",
       "      <td>1594</td>\n",
       "      <td>AGENTE DE AP SOCIOEDUCAT III</td>\n",
       "      <td>FUND. CASA</td>\n",
       "      <td>0.000000</td>\n",
       "      <td>0.000000</td>\n",
       "      <td>2885.860000</td>\n",
       "      <td>0.000000</td>\n",
       "      <td>0.000000</td>\n",
       "      <td>0.000000</td>\n",
       "      <td>0.000000</td>\n",
       "    </tr>\n",
       "    <tr>\n",
       "      <th>1659</th>\n",
       "      <td>1660</td>\n",
       "      <td>AGENTE DE SANEAMENTO AMBIENTAL</td>\n",
       "      <td>SABESP</td>\n",
       "      <td>0.000000</td>\n",
       "      <td>0.000000</td>\n",
       "      <td>369.950000</td>\n",
       "      <td>0.000000</td>\n",
       "      <td>0.000000</td>\n",
       "      <td>0.000000</td>\n",
       "      <td>0.000000</td>\n",
       "    </tr>\n",
       "    <tr>\n",
       "      <th>1712</th>\n",
       "      <td>1713</td>\n",
       "      <td>TECNICO EM GESTAO PREVID. I</td>\n",
       "      <td>SPPREV</td>\n",
       "      <td>0.000000</td>\n",
       "      <td>4344.900000</td>\n",
       "      <td>0.770000</td>\n",
       "      <td>0.000000</td>\n",
       "      <td>0.000000</td>\n",
       "      <td>0.000000</td>\n",
       "      <td>0.000000</td>\n",
       "    </tr>\n",
       "    <tr>\n",
       "      <th>2083</th>\n",
       "      <td>2084</td>\n",
       "      <td>AGENTE DE AP SOCIOEDUCAT III</td>\n",
       "      <td>FUND. CASA</td>\n",
       "      <td>0.000000</td>\n",
       "      <td>0.000000</td>\n",
       "      <td>0.060000</td>\n",
       "      <td>0.000000</td>\n",
       "      <td>0.000000</td>\n",
       "      <td>0.000000</td>\n",
       "      <td>0.000000</td>\n",
       "    </tr>\n",
       "    <tr>\n",
       "      <th>2166</th>\n",
       "      <td>2167</td>\n",
       "      <td>AGENTE DE AP SOCIOEDUCAT I</td>\n",
       "      <td>FUND. CASA</td>\n",
       "      <td>0.000000</td>\n",
       "      <td>0.000000</td>\n",
       "      <td>1649.930000</td>\n",
       "      <td>0.000000</td>\n",
       "      <td>0.000000</td>\n",
       "      <td>0.000000</td>\n",
       "      <td>0.000000</td>\n",
       "    </tr>\n",
       "  </tbody>\n",
       "</table>\n",
       "</div>"
      ],
      "text/plain": [
       "        Id                             job      sector  Month_salary  \\\n",
       "191    192                        MEDICO I       SAUDE      0.000000   \n",
       "346    347     AGENTE DE AP SOCIOEDUCAT II  FUND. CASA      0.000000   \n",
       "1105  1106      AGENTE DE AP SOCIOEDUCAT I  FUND. CASA      0.000000   \n",
       "1181  1182                        CABO  PM          PM      0.000000   \n",
       "1270  1271          ENCARREGADO DE ESTACAO        CPTM      0.000000   \n",
       "1593  1594    AGENTE DE AP SOCIOEDUCAT III  FUND. CASA      0.000000   \n",
       "1659  1660  AGENTE DE SANEAMENTO AMBIENTAL      SABESP      0.000000   \n",
       "1712  1713     TECNICO EM GESTAO PREVID. I      SPPREV      0.000000   \n",
       "2083  2084    AGENTE DE AP SOCIOEDUCAT III  FUND. CASA      0.000000   \n",
       "2166  2167      AGENTE DE AP SOCIOEDUCAT I  FUND. CASA      0.000000   \n",
       "\n",
       "       13_salary  eventual_salary  indemnity  extra_salary  discount_salary  \\\n",
       "191     0.000000         0.000000   0.000000      0.000000         0.000000   \n",
       "346  5059.880000       202.370000   0.000000      0.000000         0.000000   \n",
       "1105    0.000000      9123.570000   0.000000      0.000000         0.000000   \n",
       "1181    0.000000       211.820000   0.000000      0.000000         0.000000   \n",
       "1270    0.000000      3127.150000   0.000000      0.000000         0.000000   \n",
       "1593    0.000000      2885.860000   0.000000      0.000000         0.000000   \n",
       "1659    0.000000       369.950000   0.000000      0.000000         0.000000   \n",
       "1712 4344.900000         0.770000   0.000000      0.000000         0.000000   \n",
       "2083    0.000000         0.060000   0.000000      0.000000         0.000000   \n",
       "2166    0.000000      1649.930000   0.000000      0.000000         0.000000   \n",
       "\n",
       "      total_salary  \n",
       "191       0.000000  \n",
       "346       0.000000  \n",
       "1105      0.000000  \n",
       "1181    188.520000  \n",
       "1270   2936.420000  \n",
       "1593      0.000000  \n",
       "1659      0.000000  \n",
       "1712      0.000000  \n",
       "2083      0.000000  \n",
       "2166      0.000000  "
      ]
     },
     "execution_count": 109,
     "metadata": {},
     "output_type": "execute_result"
    }
   ],
   "source": [
    "# Identificando o menor salário Mensal\n",
    "salario_mensal_max = dataset2.loc[dataset2['Month_salary'] == dataset2['Month_salary'].min()]\n",
    "salario_mensal_max.head(10)"
   ]
  },
  {
   "cell_type": "markdown",
   "id": "8f18fe5c",
   "metadata": {},
   "source": [
    "## 05 - Qual o setor aparece mais?"
   ]
  },
  {
   "cell_type": "markdown",
   "id": "3ce20a9d",
   "metadata": {},
   "source": [
    "<font size=\"2\" face=\"Verdana\"> O setor com maior representatividade em todo o dataset é o **SPPREV** com um total de **447.539** ocorrências no registro.\n",
    "    \n",
    "</font>"
   ]
  },
  {
   "cell_type": "code",
   "execution_count": 250,
   "id": "7b8d5dc1",
   "metadata": {},
   "outputs": [
    {
     "data": {
      "text/html": [
       "<div>\n",
       "<style scoped>\n",
       "    .dataframe tbody tr th:only-of-type {\n",
       "        vertical-align: middle;\n",
       "    }\n",
       "\n",
       "    .dataframe tbody tr th {\n",
       "        vertical-align: top;\n",
       "    }\n",
       "\n",
       "    .dataframe thead th {\n",
       "        text-align: right;\n",
       "    }\n",
       "</style>\n",
       "<table border=\"1\" class=\"dataframe\">\n",
       "  <thead>\n",
       "    <tr style=\"text-align: right;\">\n",
       "      <th></th>\n",
       "      <th>sector</th>\n",
       "    </tr>\n",
       "  </thead>\n",
       "  <tbody>\n",
       "    <tr>\n",
       "      <th>SPPREV</th>\n",
       "      <td>447539</td>\n",
       "    </tr>\n",
       "    <tr>\n",
       "      <th>EDUCACAO</th>\n",
       "      <td>259238</td>\n",
       "    </tr>\n",
       "    <tr>\n",
       "      <th>PM</th>\n",
       "      <td>83865</td>\n",
       "    </tr>\n",
       "    <tr>\n",
       "      <th>SAUDE</th>\n",
       "      <td>49042</td>\n",
       "    </tr>\n",
       "    <tr>\n",
       "      <th>SAP</th>\n",
       "      <td>44270</td>\n",
       "    </tr>\n",
       "    <tr>\n",
       "      <th>ADM GERAL</th>\n",
       "      <td>33128</td>\n",
       "    </tr>\n",
       "    <tr>\n",
       "      <th>SSP</th>\n",
       "      <td>32559</td>\n",
       "    </tr>\n",
       "    <tr>\n",
       "      <th>CEETEPS</th>\n",
       "      <td>19462</td>\n",
       "    </tr>\n",
       "    <tr>\n",
       "      <th>SABESP</th>\n",
       "      <td>18120</td>\n",
       "    </tr>\n",
       "    <tr>\n",
       "      <th>FUND. CASA</th>\n",
       "      <td>12311</td>\n",
       "    </tr>\n",
       "  </tbody>\n",
       "</table>\n",
       "</div>"
      ],
      "text/plain": [
       "            sector\n",
       "SPPREV      447539\n",
       "EDUCACAO    259238\n",
       "PM           83865\n",
       "SAUDE        49042\n",
       "SAP          44270\n",
       "ADM GERAL    33128\n",
       "SSP          32559\n",
       "CEETEPS      19462\n",
       "SABESP       18120\n",
       "FUND. CASA   12311"
      ]
     },
     "execution_count": 250,
     "metadata": {},
     "output_type": "execute_result"
    }
   ],
   "source": [
    "setor_mais_aparente = dataset2['sector'].value_counts()[:10]\n",
    "#setor_mais_aparente\n",
    "\n",
    "setor_mais_aparente = pd.DataFrame(setor_mais_aparente)\n",
    "setor_mais_aparente\n"
   ]
  },
  {
   "cell_type": "code",
   "execution_count": 267,
   "id": "408e5f74",
   "metadata": {
    "code_folding": []
   },
   "outputs": [
    {
     "data": {
      "image/png": "[encoded data removed]",
      "text/plain": [
       "<Figure size 1008x432 with 1 Axes>"
      ]
     },
     "metadata": {
      "needs_background": "light"
     },
     "output_type": "display_data"
    }
   ],
   "source": [
    "# cores\n",
    "azul = '#3c2a4d'\n",
    "cinza = '#a9a9a9'\n",
    "\n",
    "# Criando os Subplots\n",
    "fig, ax = plt.subplots(figsize=(14,6))\n",
    "setor_mais_aparente.plot(kind='bar', width = 0.8, ax=ax, color=cinza)\n",
    "\n",
    "# Definindo os Labels \n",
    "ax.set_ylabel('Total de aparições')\n",
    "ax.set_xlabel('Setor')\n",
    "ax.get_legend().remove()\n",
    "\n",
    "# Removendo o grid\n",
    "ax.spines['right'].set_visible(False)\n",
    "ax.spines['top'].set_visible(False)\n",
    "\n",
    "# Título\n",
    "plt.text(0,530000,\n",
    "        \"Setores com mais registros\",\n",
    "        fontsize=18,\n",
    "        color='black',\n",
    "        weight='bold')\n",
    "\n",
    "# Subtítulo\n",
    "plt.text(0,495000,\n",
    "        \"Quantidade de setores com mais registros \"\n",
    "        \"No ano de 2017\",\n",
    "        fontsize=14,\n",
    "        color=cinza)\n",
    "\n",
    "# Texto em destaque\n",
    "plt.text(0.8, 400000,\n",
    "        \"O setor com maior quantidade de registros foi SPPREV\\n\"\n",
    "        \"com um total de 447.539 registros\",\n",
    "        fontsize=12,\n",
    "        color=azul)\n",
    "\n",
    "# Configurando o alinhamento do eixo x\n",
    "plt.xticks(rotation = 0, ha='center')\n",
    "\n",
    "# Criando um destaque para o maior valor\n",
    "ax.get_children()[0].set_color(azul)\n",
    "\n",
    "plt.text(-0.3, 455000,\n",
    "        \"447.539\",\n",
    "        fontsize=14,\n",
    "        color=azul,\n",
    "        weight='bold')\n",
    "\n",
    "# Plotando o gráfico\n",
    "plt.tight_layout()"
   ]
  },
  {
   "cell_type": "markdown",
   "id": "47795ccc",
   "metadata": {},
   "source": [
    "## 06 - Qual o cargo mais presente?"
   ]
  },
  {
   "cell_type": "markdown",
   "id": "8e06a022",
   "metadata": {},
   "source": [
    "<font size=\"2\" face=\"Verdana\"> Já em consideração ao cargo, o mais recorrente em todo o dataset é o de **PROFESSOR EDUCACAO BASICA II** com um total de **221.178** ocorrências, em segundo lugar temos o de **PROFESSOR EDUCACAO BASICA I** com um total de **128705** ocorrências e em terceiro **BENEFICIARIO DE SERVIDOR ESTADUAL-IPESP** com um total de **91458** ocorrências.\n",
    "    \n",
    "</font>"
   ]
  },
  {
   "cell_type": "code",
   "execution_count": 158,
   "id": "41f5d101",
   "metadata": {},
   "outputs": [
    {
     "data": {
      "text/html": [
       "<div>\n",
       "<style scoped>\n",
       "    .dataframe tbody tr th:only-of-type {\n",
       "        vertical-align: middle;\n",
       "    }\n",
       "\n",
       "    .dataframe tbody tr th {\n",
       "        vertical-align: top;\n",
       "    }\n",
       "\n",
       "    .dataframe thead th {\n",
       "        text-align: right;\n",
       "    }\n",
       "</style>\n",
       "<table border=\"1\" class=\"dataframe\">\n",
       "  <thead>\n",
       "    <tr style=\"text-align: right;\">\n",
       "      <th></th>\n",
       "      <th>job</th>\n",
       "    </tr>\n",
       "  </thead>\n",
       "  <tbody>\n",
       "    <tr>\n",
       "      <th>PROFESSOR EDUCACAO BASICA II</th>\n",
       "      <td>221178</td>\n",
       "    </tr>\n",
       "    <tr>\n",
       "      <th>PROFESSOR EDUCACAO BASICA I</th>\n",
       "      <td>128705</td>\n",
       "    </tr>\n",
       "    <tr>\n",
       "      <th>BENEFICIARIO DE SERVIDOR ESTADUAL-IPESP</th>\n",
       "      <td>91458</td>\n",
       "    </tr>\n",
       "    <tr>\n",
       "      <th>AGENTE DE ORGANIZACAO ESCOLAR</th>\n",
       "      <td>43123</td>\n",
       "    </tr>\n",
       "    <tr>\n",
       "      <th>BENEFICIARIO DA POLICIA MILITAR - CBPM</th>\n",
       "      <td>37725</td>\n",
       "    </tr>\n",
       "    <tr>\n",
       "      <th>CABO  PM</th>\n",
       "      <td>36849</td>\n",
       "    </tr>\n",
       "    <tr>\n",
       "      <th>AUXILIAR SERV. GERAIS</th>\n",
       "      <td>26517</td>\n",
       "    </tr>\n",
       "    <tr>\n",
       "      <th>SD 1C PM</th>\n",
       "      <td>25015</td>\n",
       "    </tr>\n",
       "    <tr>\n",
       "      <th>OFICIAL ADMINISTRATIVO</th>\n",
       "      <td>23966</td>\n",
       "    </tr>\n",
       "    <tr>\n",
       "      <th>3SGT  PM</th>\n",
       "      <td>20387</td>\n",
       "    </tr>\n",
       "  </tbody>\n",
       "</table>\n",
       "</div>"
      ],
      "text/plain": [
       "                                            job\n",
       "PROFESSOR EDUCACAO BASICA II             221178\n",
       "PROFESSOR EDUCACAO BASICA I              128705\n",
       "BENEFICIARIO DE SERVIDOR ESTADUAL-IPESP   91458\n",
       "AGENTE DE ORGANIZACAO ESCOLAR             43123\n",
       "BENEFICIARIO DA POLICIA MILITAR - CBPM    37725\n",
       "CABO  PM                                  36849\n",
       "AUXILIAR SERV. GERAIS                     26517\n",
       "SD 1C PM                                  25015\n",
       "OFICIAL ADMINISTRATIVO                    23966\n",
       "3SGT  PM                                  20387"
      ]
     },
     "execution_count": 158,
     "metadata": {},
     "output_type": "execute_result"
    }
   ],
   "source": [
    "cargo_mais_presente = dataset2['job'].value_counts()[:10]\n",
    "cargo_mais_presente = pd.DataFrame(cargo_mais_presente).sort_values(by='job', ascending = False)\n",
    "cargo_mais_presente"
   ]
  },
  {
   "cell_type": "code",
   "execution_count": 220,
   "id": "aaeb40db",
   "metadata": {
    "code_folding": []
   },
   "outputs": [
    {
     "data": {
      "image/png": "[encoded data removed]",
      "text/plain": [
       "<Figure size 1008x432 with 1 Axes>"
      ]
     },
     "metadata": {
      "needs_background": "light"
     },
     "output_type": "display_data"
    }
   ],
   "source": [
    "# Criando os Subplots\n",
    "fig, ax = plt.subplots(figsize=(14,6))\n",
    "cargo_mais_presente.plot(kind='barh', width=0.8, ax=ax, color=cinza)\n",
    "ax.set_ylabel(\"Cargos\")\n",
    "ax.set_xlabel(\"Total de aparições\")\n",
    "ax.get_legend().remove()\n",
    "\n",
    "# Remover grid\n",
    "ax.spines['right'].set_visible(False)\n",
    "ax.spines['top'].set_visible(False)\n",
    "\n",
    "# Título\n",
    "plt.text(0,11,\n",
    "        \"Cargos com mais relatos\",\n",
    "        fontsize = 18,\n",
    "        color='black',\n",
    "        weight='bold')\n",
    "\n",
    "# subtítulo\n",
    "plt.text(0,10,\n",
    "        \"Total de Cargos mais frequentes no ano de 2017\",\n",
    "        fontsize=14,\n",
    "        color=cinza)\n",
    "\n",
    "# Valor de destaque\n",
    "plt.text(225000, -0.3,\n",
    "        \"221.178\",\n",
    "        fontsize=14,\n",
    "        color=azul,\n",
    "        weight='bold')\n",
    "\n",
    "# Valores em destaque\n",
    "plt.text(135000, 0.7,\n",
    "        \"128.705\",\n",
    "        fontsize=14,\n",
    "        color=azul,\n",
    "        weight='bold')\n",
    "\n",
    "plt.text(97000, 1.7,\n",
    "        \"91.458\",\n",
    "        fontsize=14,\n",
    "        color=azul,\n",
    "        weight='bold')\n",
    "\n",
    "# Texto em destaque\n",
    "plt.text(97000, 7,\n",
    "        \"texto\",\n",
    "        fontsize=14,\n",
    "        color=azul)\n",
    "\n",
    "\n",
    "plt.xticks(rotation = 0, ha = 'center')\n",
    "ax.get_children()[0].set_color(azul)\n",
    "ax.get_children()[1].set_color(azul)\n",
    "ax.get_children()[2].set_color(azul)\n",
    "plt.tight_layout()"
   ]
  },
  {
   "cell_type": "markdown",
   "id": "ef051903",
   "metadata": {},
   "source": [
    "<font size=\"2\" face=\"Verdana\"> Verificando especificamente os cargos da área de educação, ou seja, Professor Educação Básica I e II, é possível observar que com base na quantidade de dados disponíveis, uma grande parte, mais de 32% dos dados, são correspondentes a ambos os cargos, o que mostra o grande volume de professores que exercem sua profissão no estado de **SP**.      </font>"
   ]
  },
  {
   "cell_type": "code",
   "execution_count": 279,
   "id": "c51c33da",
   "metadata": {},
   "outputs": [
    {
     "name": "stdout",
     "output_type": "stream",
     "text": [
      "O Cargo de Professor Educação Básica I corresponde à 128705 registros, correspondendo à 11.85% de todo o dataset\n",
      "O Cargo de Professor Educação Básica II corresponde à 221178 registros, correspondendo à 20.37% de todo o dataset\n"
     ]
    }
   ],
   "source": [
    "# Correpondência com o Dataset\n",
    "print('O Cargo de Professor Educação Básica I corresponde à ',end='')\n",
    "print(f'{len(dataset2[dataset2.job == \"PROFESSOR EDUCACAO BASICA I\"])} registros, ', end='')\n",
    "print(f'correspondendo à {(len(dataset2[dataset2.job == \"PROFESSOR EDUCACAO BASICA I\"]) / dataset.shape[0])*100:.2f}% de todo o dataset')\n",
    "\n",
    "\n",
    "print('O Cargo de Professor Educação Básica II corresponde à ',end='')\n",
    "print(f'{len(dataset2[dataset2.job == \"PROFESSOR EDUCACAO BASICA II\"])} registros, ', end='')\n",
    "print(f'correspondendo à {(len(dataset2[sdataset2.job == \"PROFESSOR EDUCACAO BASICA II\"]) / dataset.shape[0])*100:.2f}% de todo o dataset')\n",
    "\n"
   ]
  },
  {
   "cell_type": "markdown",
   "id": "fdab7577",
   "metadata": {},
   "source": [
    "# Conclusão"
   ]
  },
  {
   "cell_type": "markdown",
   "id": "96d48400",
   "metadata": {},
   "source": [
    "<font size=\"2\" face=\"Verdana\"> Dados disponibilizados por governos são sempre complexos de tratar e obter insigths, principalmente pelo falo de os sistemas nem sempre estarem integrados, um sistema pode registrar valores de uma forma (Padrão Norte-americano), outro pode fazer um registro no padrão brasileiro, isso torna desafiador o processo. Na base de dados utilizada, dados financeiro nem sempre correspondiam, mas foi possível obter informações interessantes:\n",
    "    \n",
    "* A maior quantidade de cargos são os de Professores de Educação Básica I e II, essa é uma categoria que compõe **32.22%** de todo o dataset.\n",
    "* Foi notado valores muito altos, acima do teto de **R$ 21.631,05** sendo este o salário limite correspondente ao salário do Governado do estado. Muitos aparentam ter sido registrados de forma erronea\n",
    "* O Setor com maior relevância no Dataset não é o de educação, apesar de o cargo de professor ser o mais frequente, o setor com maior participação é o SPPREV, que remete ao setor de previdência.\n",
    "\n",
    "Por fim, lembro que a análise em questão tem como objetivo, unico e exlusivamente a prática e estudo de análise de dados.\n",
    "    \n",
    "</font>"
   ]
  }
 ],
 "metadata": {
  "kernelspec": {
   "display_name": "Python 3",
   "language": "python",
   "name": "python3"
  },
  "language_info": {
   "codemirror_mode": {
    "name": "ipython",
    "version": 3
   },
   "file_extension": ".py",
   "mimetype": "text/x-python",
   "name": "python",
   "nbconvert_exporter": "python",
   "pygments_lexer": "ipython3",
   "version": "3.8.8"
  },
  "varInspector": {
   "cols": {
    "lenName": 16,
    "lenType": 16,
    "lenVar": 40
   },
   "kernels_config": {
    "python": {
     "delete_cmd_postfix": "",
     "delete_cmd_prefix": "del ",
     "library": "var_list.py",
     "varRefreshCmd": "print(var_dic_list())"
    },
    "r": {
     "delete_cmd_postfix": ") ",
     "delete_cmd_prefix": "rm(",
     "library": "var_list.r",
     "varRefreshCmd": "cat(var_dic_list()) "
    }
   },
   "types_to_exclude": [
    "module",
    "function",
    "builtin_function_or_method",
    "instance",
    "_Feature"
   ],
   "window_display": false
  }
 },
 "nbformat": 4,
 "nbformat_minor": 5
}
