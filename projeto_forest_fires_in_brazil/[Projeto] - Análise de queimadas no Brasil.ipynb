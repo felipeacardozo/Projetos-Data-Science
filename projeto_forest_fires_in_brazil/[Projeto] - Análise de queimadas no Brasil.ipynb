{
 "cells": [
  {
   "cell_type": "markdown",
   "id": "3289cb34",
   "metadata": {},
   "source": [
    "<h1><b><center>Queimadas no Brasil entre 1998 e 2017</center></b></h1>"
   ]
  },
  {
   "cell_type": "markdown",
   "id": "3b3441ac",
   "metadata": {},
   "source": [
    "---\n",
    "<font size=\"2\" face=\"Verdana\">Os Cientistas pelo mundo, sempre estão alertando a sociedade sobre os perigos dos **incêndios florestais**. Tais queimadas degradam espécies de flora e fauna, causando um gigantesco desequilibrio ambiental.\n",
    "\n",
    "O **Basil** é o portador da maior floresta equatorial do mundo, localizada no norte do pais, a **Floresta Amazônica** abrange os territórios dos estados como o Amazonas, Amapá, Acre, Pará, Roraima e Rondônia. Além disso ocupa algumas regiões de outros paises como Bolívia, Colômbia, Equador, Guiana Inglesa, Guiana Francesa, Suriname e Venezuela.\n",
    "\n",
    "Todo ano surgem notícias sobre queimadas por todo pais, os motivos vão desde acidentes naturais à ações humanas. O Brasil acompanha e registra tais queimadas durante vários anos, fazendo o registro quando elas ocorrem, pelo menos na maioria das vezes. Com base em uma desses bancos de dados farei uma análise dos dados a fim de identificar algumas informações sobre o assunto.\n",
    "\n",
    " \n",
    "Por: Felipe Alves Cardozo\n",
    "</font>"
   ]
  },
  {
   "cell_type": "markdown",
   "id": "854499a7",
   "metadata": {},
   "source": [
    "<p  align=center><br><img src='https://image.volunteerworld.com/5abcca70bb34f9ceb7ccca8f131feffbe804c624/amazon-rainforest-banner.jpg?auto=format&crop=faces&fit=crop&h=410&w=1230' widht='100%' hight='40%'></p>"
   ]
  },
  {
   "cell_type": "markdown",
   "id": "49ea4a0b",
   "metadata": {},
   "source": [
    "# Importação dos Dados\n",
    "\n",
    "<font size=\"2\" face=\"Verdana\">Neste Projeto, irei analisar os dados das **Queimadas no Brasil entre 1998 e 2017** a partir da base de dados disponibilizada no kaggle, buscarei uma visão ampla dos dados, respondendo perguntas como:\n",
    "\n",
    "* Qual o Ano com maior e menor quantidade de ocorrências?\n",
    "* Qual o Estado com maior e menor quantidade de ocorrências? \n",
    "* Qual o Mês com maior e menor quantidade de ocorrências?\n",
    "* Os estados mais afetados?\n",
    "\n",
    "Além de outras perguntas...\n",
    "    \n",
    "Farei também algumas representações gráficas dos dados, seguindo a convenção de **Storytelling**, proposta pela autora Cole Nussbaumer Knaflic, em seu livro de nome **Storytellyng com Dados**\n",
    "\n",
    "Os dados podem ser obtidos clicando neste [Link](https://www.kaggle.com/gustavomodelli/forest-fires-in-brazil)\n",
    "</font>"
   ]
  },
  {
   "cell_type": "markdown",
   "id": "fda8ce9d",
   "metadata": {},
   "source": [
    "<font size=\"2\" face=\"Verdana\">O primeiro passo é a Importação das bibliotecas a serem utilizadas, no caso do presente projeto, importaremos a biblioteca **Pandas** e a **Matplotlib** </font>"
   ]
  },
  {
   "cell_type": "code",
   "execution_count": 1,
   "id": "071f493a",
   "metadata": {},
   "outputs": [],
   "source": [
    "# Importando as Bibliotécas \n",
    "import pandas as pd\n",
    "import matplotlib.pyplot as plt"
   ]
  },
  {
   "cell_type": "markdown",
   "id": "cf5e327c",
   "metadata": {},
   "source": [
    "<font size=\"2\" face=\"Verdana\">O Dataset no qual trabalharei é composto por um arquivo com **Cinco** colunas, compondo as informações relatos de ocorrencia de incêndio, das quais tem como significado:\n",
    "\n",
    "**Dicionário das Variáveis**\n",
    "\n",
    "1. `year:` Ano em que foram relatados os incêndios.\n",
    "2. `state:` Estado brasileiro em que ocorreram os incêndios.\n",
    "3. `month:` Mês em que foram relatados os incêndios.\n",
    "4. `number:` Número de incêndios florestais relatados.\n",
    "5. `date:` Data em que os incêndios florestais foram relatados.\n",
    "    \n",
    "</font>    "
   ]
  },
  {
   "cell_type": "code",
   "execution_count": 2,
   "id": "05023dc4",
   "metadata": {},
   "outputs": [
    {
     "data": {
      "text/html": [
       "<div>\n",
       "<style scoped>\n",
       "    .dataframe tbody tr th:only-of-type {\n",
       "        vertical-align: middle;\n",
       "    }\n",
       "\n",
       "    .dataframe tbody tr th {\n",
       "        vertical-align: top;\n",
       "    }\n",
       "\n",
       "    .dataframe thead th {\n",
       "        text-align: right;\n",
       "    }\n",
       "</style>\n",
       "<table border=\"1\" class=\"dataframe\">\n",
       "  <thead>\n",
       "    <tr style=\"text-align: right;\">\n",
       "      <th></th>\n",
       "      <th>year</th>\n",
       "      <th>state</th>\n",
       "      <th>month</th>\n",
       "      <th>number</th>\n",
       "      <th>date</th>\n",
       "    </tr>\n",
       "  </thead>\n",
       "  <tbody>\n",
       "    <tr>\n",
       "      <th>0</th>\n",
       "      <td>1998</td>\n",
       "      <td>Acre</td>\n",
       "      <td>Janeiro</td>\n",
       "      <td>0.0</td>\n",
       "      <td>1998-01-01</td>\n",
       "    </tr>\n",
       "    <tr>\n",
       "      <th>1</th>\n",
       "      <td>1999</td>\n",
       "      <td>Acre</td>\n",
       "      <td>Janeiro</td>\n",
       "      <td>0.0</td>\n",
       "      <td>1999-01-01</td>\n",
       "    </tr>\n",
       "    <tr>\n",
       "      <th>2</th>\n",
       "      <td>2000</td>\n",
       "      <td>Acre</td>\n",
       "      <td>Janeiro</td>\n",
       "      <td>0.0</td>\n",
       "      <td>2000-01-01</td>\n",
       "    </tr>\n",
       "    <tr>\n",
       "      <th>3</th>\n",
       "      <td>2001</td>\n",
       "      <td>Acre</td>\n",
       "      <td>Janeiro</td>\n",
       "      <td>0.0</td>\n",
       "      <td>2001-01-01</td>\n",
       "    </tr>\n",
       "    <tr>\n",
       "      <th>4</th>\n",
       "      <td>2002</td>\n",
       "      <td>Acre</td>\n",
       "      <td>Janeiro</td>\n",
       "      <td>0.0</td>\n",
       "      <td>2002-01-01</td>\n",
       "    </tr>\n",
       "  </tbody>\n",
       "</table>\n",
       "</div>"
      ],
      "text/plain": [
       "   year state    month  number        date\n",
       "0  1998  Acre  Janeiro     0.0  1998-01-01\n",
       "1  1999  Acre  Janeiro     0.0  1999-01-01\n",
       "2  2000  Acre  Janeiro     0.0  2000-01-01\n",
       "3  2001  Acre  Janeiro     0.0  2001-01-01\n",
       "4  2002  Acre  Janeiro     0.0  2002-01-01"
      ]
     },
     "execution_count": 2,
     "metadata": {},
     "output_type": "execute_result"
    }
   ],
   "source": [
    "# Importando a base de dados\n",
    "df = pd.read_csv(\"amazon.csv\", encoding='latin1')\n",
    "\n",
    "# Exibindo o dataset\n",
    "df.head()"
   ]
  },
  {
   "cell_type": "markdown",
   "id": "17ca6790",
   "metadata": {},
   "source": [
    "# Análise Exploratória dos Dados"
   ]
  },
  {
   "cell_type": "markdown",
   "id": "1f8ce65d",
   "metadata": {},
   "source": [
    "O Dataset em questão possui **6454** linhas e **5** colunas, representando dados de quase **20 anos**, sendo de **1998** à **2017**."
   ]
  },
  {
   "cell_type": "code",
   "execution_count": 3,
   "id": "4cad6df6",
   "metadata": {},
   "outputs": [
    {
     "name": "stdout",
     "output_type": "stream",
     "text": [
      "DIMENSÕES DO DATAFRAME:\n",
      "\n",
      "O Dataframe possui 6454 linhas\n",
      "O Dataframe possui 5 colunas\n"
     ]
    }
   ],
   "source": [
    "# Exibindo informações de Dimensão dos dados\n",
    "print(\"DIMENSÕES DO DATAFRAME:\\n\")\n",
    "print(f\"O Dataframe possui {df.shape[0]} linhas\")\n",
    "print(f\"O Dataframe possui {df.shape[1]} colunas\")"
   ]
  },
  {
   "cell_type": "markdown",
   "id": "a589bbaa",
   "metadata": {},
   "source": [
    "<font size=\"2\" face=\"Verdana\">Utilizando o método **info()** vemos que o Dataset possui valores completos, ou seja, não possui valores nulos, este é um resumo mais abrangente das informações dos dados, destacando o índice, o nome, a contagem total de valores não nulos e os tipos de cada coluna, nesta respectiva ordem.</font>"
   ]
  },
  {
   "cell_type": "code",
   "execution_count": 4,
   "id": "52dcc9d9",
   "metadata": {},
   "outputs": [
    {
     "name": "stdout",
     "output_type": "stream",
     "text": [
      "<class 'pandas.core.frame.DataFrame'>\n",
      "RangeIndex: 6454 entries, 0 to 6453\n",
      "Data columns (total 5 columns):\n",
      " #   Column  Non-Null Count  Dtype  \n",
      "---  ------  --------------  -----  \n",
      " 0   year    6454 non-null   int64  \n",
      " 1   state   6454 non-null   object \n",
      " 2   month   6454 non-null   object \n",
      " 3   number  6454 non-null   float64\n",
      " 4   date    6454 non-null   object \n",
      "dtypes: float64(1), int64(1), object(3)\n",
      "memory usage: 252.2+ KB\n"
     ]
    }
   ],
   "source": [
    "# Imprimindo o resumo geral das informações do Dataset\n",
    "df.info()"
   ]
  },
  {
   "cell_type": "markdown",
   "id": "728c3715",
   "metadata": {},
   "source": [
    "<font size=\"2\" face=\"Verdana\">Por se tratar de quantidade de relatos, não faz sentido a coluna **number** ser do tipo float, sendo assim, converterei as informações para o tipo inteiro, onde, será mais consizente com a realidade. </font>"
   ]
  },
  {
   "cell_type": "code",
   "execution_count": 5,
   "id": "7648c500",
   "metadata": {},
   "outputs": [],
   "source": [
    "# Convertendo a coluna referente ao Número de Relatos para valor inteiro\n",
    "df['number'] = df.number.astype('int64')"
   ]
  },
  {
   "cell_type": "markdown",
   "id": "09dc0e5e",
   "metadata": {},
   "source": [
    "<font size=\"2\" face=\"Verdana\">Para garantir que realmente não existe nenhum valor nulo, aplicarei o método **isnull()**, somando dessa forma, tais valores, tendo como resultado a confirmação da **não existência de valores nulos.** </font>   "
   ]
  },
  {
   "cell_type": "code",
   "execution_count": 6,
   "id": "8e404b83",
   "metadata": {},
   "outputs": [
    {
     "data": {
      "text/plain": [
       "year      0\n",
       "state     0\n",
       "month     0\n",
       "number    0\n",
       "date      0\n",
       "dtype: int64"
      ]
     },
     "execution_count": 6,
     "metadata": {},
     "output_type": "execute_result"
    }
   ],
   "source": [
    "# Somando os valores nulos do Dataset\n",
    "df.isnull().sum()"
   ]
  },
  {
   "cell_type": "markdown",
   "id": "5aa2ef73",
   "metadata": {},
   "source": [
    "<font size=\"2\" face=\"Verdana\">Com as análises anteriores, podemos observar que a coluna **date**, apesar de estar com a formatação conforme o padrão **yyyy-mm-dd**, porém, vemos que o vaor correspondente ao dia e ao mês, estão com o valor **01** em ambos, tornando a coluna descartável.\n",
    "    \n",
    "Sendo assim, aplicarei o método **drop()** na coluna **date**\n",
    "    \n",
    "</font>    "
   ]
  },
  {
   "cell_type": "code",
   "execution_count": 7,
   "id": "d62f595f",
   "metadata": {},
   "outputs": [
    {
     "data": {
      "text/html": [
       "<div>\n",
       "<style scoped>\n",
       "    .dataframe tbody tr th:only-of-type {\n",
       "        vertical-align: middle;\n",
       "    }\n",
       "\n",
       "    .dataframe tbody tr th {\n",
       "        vertical-align: top;\n",
       "    }\n",
       "\n",
       "    .dataframe thead th {\n",
       "        text-align: right;\n",
       "    }\n",
       "</style>\n",
       "<table border=\"1\" class=\"dataframe\">\n",
       "  <thead>\n",
       "    <tr style=\"text-align: right;\">\n",
       "      <th></th>\n",
       "      <th>year</th>\n",
       "      <th>state</th>\n",
       "      <th>month</th>\n",
       "      <th>number</th>\n",
       "    </tr>\n",
       "  </thead>\n",
       "  <tbody>\n",
       "    <tr>\n",
       "      <th>0</th>\n",
       "      <td>1998</td>\n",
       "      <td>Acre</td>\n",
       "      <td>Janeiro</td>\n",
       "      <td>0</td>\n",
       "    </tr>\n",
       "    <tr>\n",
       "      <th>1</th>\n",
       "      <td>1999</td>\n",
       "      <td>Acre</td>\n",
       "      <td>Janeiro</td>\n",
       "      <td>0</td>\n",
       "    </tr>\n",
       "    <tr>\n",
       "      <th>2</th>\n",
       "      <td>2000</td>\n",
       "      <td>Acre</td>\n",
       "      <td>Janeiro</td>\n",
       "      <td>0</td>\n",
       "    </tr>\n",
       "    <tr>\n",
       "      <th>3</th>\n",
       "      <td>2001</td>\n",
       "      <td>Acre</td>\n",
       "      <td>Janeiro</td>\n",
       "      <td>0</td>\n",
       "    </tr>\n",
       "    <tr>\n",
       "      <th>4</th>\n",
       "      <td>2002</td>\n",
       "      <td>Acre</td>\n",
       "      <td>Janeiro</td>\n",
       "      <td>0</td>\n",
       "    </tr>\n",
       "  </tbody>\n",
       "</table>\n",
       "</div>"
      ],
      "text/plain": [
       "   year state    month  number\n",
       "0  1998  Acre  Janeiro       0\n",
       "1  1999  Acre  Janeiro       0\n",
       "2  2000  Acre  Janeiro       0\n",
       "3  2001  Acre  Janeiro       0\n",
       "4  2002  Acre  Janeiro       0"
      ]
     },
     "execution_count": 7,
     "metadata": {},
     "output_type": "execute_result"
    }
   ],
   "source": [
    "# Removendo a coluna date\n",
    "df = df.drop(['date'], axis=1)\n",
    "df.head()"
   ]
  },
  {
   "cell_type": "markdown",
   "id": "846476c3",
   "metadata": {},
   "source": [
    "A próxima<font size=\"2\" face=\"Verdana\">A próxima etapa é a análise da coluna **state**, com o método **unique()**, onde são listados todos estados com registro de ocorrência, totalizando **23** estados.  </font>"
   ]
  },
  {
   "cell_type": "code",
   "execution_count": 8,
   "id": "818a7cd5",
   "metadata": {
    "scrolled": true
   },
   "outputs": [
    {
     "data": {
      "text/plain": [
       "array(['Acre', 'Alagoas', 'Amapa', 'Amazonas', 'Bahia', 'Ceara',\n",
       "       'Distrito Federal', 'Espirito Santo', 'Goias', 'Maranhao',\n",
       "       'Mato Grosso', 'Minas Gerais', 'Pará', 'Paraiba', 'Pernambuco',\n",
       "       'Piau', 'Rio', 'Rondonia', 'Roraima', 'Santa Catarina',\n",
       "       'Sao Paulo', 'Sergipe', 'Tocantins'], dtype=object)"
      ]
     },
     "execution_count": 8,
     "metadata": {},
     "output_type": "execute_result"
    }
   ],
   "source": [
    "# Verifiando os Valores da Coluna Estado\n",
    "df['state'].unique()"
   ]
  },
  {
   "cell_type": "markdown",
   "id": "4c3394ea",
   "metadata": {},
   "source": [
    "<font size=\"2\" face=\"Verdana\">Com isso, podemos observar que existe o estado **Rio**, mas não está claro a qual estado corresponde (Rio de Janeiro, Rio Grande do Sul ou Rio Grande do Norte), dessa forma, apesar de o estado **Rio** ser o estado que mais aparece no dataset, deletarei as linas correspondentes ao valor, dessa forma o dataset passa a ter **22 estados**.\n",
    "</font>"
   ]
  },
  {
   "cell_type": "code",
   "execution_count": 9,
   "id": "3272ae1a",
   "metadata": {},
   "outputs": [
    {
     "data": {
      "text/plain": [
       "Rio                 717\n",
       "Paraiba             478\n",
       "Mato Grosso         478\n",
       "Alagoas             240\n",
       "Amapa               239\n",
       "Minas Gerais        239\n",
       "Bahia               239\n",
       "Piau                239\n",
       "Tocantins           239\n",
       "Santa Catarina      239\n",
       "Sao Paulo           239\n",
       "Maranhao            239\n",
       "Rondonia            239\n",
       "Acre                239\n",
       "Espirito Santo      239\n",
       "Sergipe             239\n",
       "Amazonas            239\n",
       "Goias               239\n",
       "Roraima             239\n",
       "Distrito Federal    239\n",
       "Pernambuco          239\n",
       "Ceara               239\n",
       "Pará                239\n",
       "Name: state, dtype: int64"
      ]
     },
     "execution_count": 9,
     "metadata": {},
     "output_type": "execute_result"
    }
   ],
   "source": [
    "df['state'].value_counts()"
   ]
  },
  {
   "cell_type": "code",
   "execution_count": 10,
   "id": "58f401cd",
   "metadata": {},
   "outputs": [],
   "source": [
    "# Deletando o valor Rio\n",
    "df.drop(df.loc[df['state'] == 'Rio'].index, inplace=True)"
   ]
  },
  {
   "cell_type": "code",
   "execution_count": 11,
   "id": "cd18ea06",
   "metadata": {},
   "outputs": [
    {
     "data": {
      "text/plain": [
       "array(['Acre', 'Alagoas', 'Amapa', 'Amazonas', 'Bahia', 'Ceara',\n",
       "       'Distrito Federal', 'Espirito Santo', 'Goias', 'Maranhao',\n",
       "       'Mato Grosso', 'Minas Gerais', 'Pará', 'Paraiba', 'Pernambuco',\n",
       "       'Piau', 'Rondonia', 'Roraima', 'Santa Catarina', 'Sao Paulo',\n",
       "       'Sergipe', 'Tocantins'], dtype=object)"
      ]
     },
     "execution_count": 11,
     "metadata": {},
     "output_type": "execute_result"
    }
   ],
   "source": [
    "# Dataset após a remoção do Valor Rio\n",
    "df['state'].unique()"
   ]
  },
  {
   "cell_type": "markdown",
   "id": "98c0d53b",
   "metadata": {},
   "source": [
    "<font size=\"2\" face=\"Verdana\">Com o objetivo da melhor composição das informações gráficas, reduzirei os nomes dos estados para valores menores.</font>"
   ]
  },
  {
   "cell_type": "code",
   "execution_count": 12,
   "id": "b0149553",
   "metadata": {},
   "outputs": [],
   "source": [
    "# Renomeando os estados para simplificar as informações\n",
    "estados = { 'Acre': 'AC',\n",
    "            'Alagoas': 'AL',\n",
    "            'Amapa': 'AP',\n",
    "            'Amazonas': 'AM',\n",
    "            'Bahia': 'BA',\n",
    "            'Ceara': 'CE',\n",
    "            'Distrito Federal': 'DF',\n",
    "            'Espirito Santo': 'ES',\n",
    "            'Goias': 'GO',\n",
    "            'Maranhao': 'MA',\n",
    "            'Mato Grosso': 'MT',\n",
    "            'Minas Gerais': 'MG',\n",
    "            'Paraiba': 'PB',\n",
    "            'Pará': 'PA',\n",
    "            'Pernambuco': 'PE', \n",
    "            'Piau': 'PI',\n",
    "            'Rondonia': 'RO',\n",
    "            'Roraima': 'RR',\n",
    "            'Santa Catarina': 'SC',\n",
    "            'Sao Paulo': 'SP',\n",
    "            'Sergipe': 'SE',\n",
    "            'Tocantins': 'TO'\n",
    "}\n",
    "\n",
    "df['state'] = df.state.map(estados)"
   ]
  },
  {
   "cell_type": "markdown",
   "id": "1cc3642a",
   "metadata": {},
   "source": [
    "<font size=\"2\" face=\"Verdana\">A Próxima etapa da análise é a impressão do resumo estatístico das colunas com valores numéricos utilizando o método **describe()**, nesse caso temos duas colunas, uma correspondente ao ano e outra correspondente ao número de relatos. \n",
    "    \n",
    "No caso do ano do relato, não faz sentido o resumo estatístico então farei a descrição apenas da coluna **number**\n",
    "\n",
    "</font>"
   ]
  },
  {
   "cell_type": "code",
   "execution_count": 13,
   "id": "64fe35c9",
   "metadata": {},
   "outputs": [
    {
     "data": {
      "text/html": [
       "<div>\n",
       "<style scoped>\n",
       "    .dataframe tbody tr th:only-of-type {\n",
       "        vertical-align: middle;\n",
       "    }\n",
       "\n",
       "    .dataframe tbody tr th {\n",
       "        vertical-align: top;\n",
       "    }\n",
       "\n",
       "    .dataframe thead th {\n",
       "        text-align: right;\n",
       "    }\n",
       "</style>\n",
       "<table border=\"1\" class=\"dataframe\">\n",
       "  <thead>\n",
       "    <tr style=\"text-align: right;\">\n",
       "      <th></th>\n",
       "      <th>number</th>\n",
       "    </tr>\n",
       "  </thead>\n",
       "  <tbody>\n",
       "    <tr>\n",
       "      <th>count</th>\n",
       "      <td>5737.000000</td>\n",
       "    </tr>\n",
       "    <tr>\n",
       "      <th>mean</th>\n",
       "      <td>113.890709</td>\n",
       "    </tr>\n",
       "    <tr>\n",
       "      <th>std</th>\n",
       "      <td>197.636099</td>\n",
       "    </tr>\n",
       "    <tr>\n",
       "      <th>min</th>\n",
       "      <td>0.000000</td>\n",
       "    </tr>\n",
       "    <tr>\n",
       "      <th>25%</th>\n",
       "      <td>3.000000</td>\n",
       "    </tr>\n",
       "    <tr>\n",
       "      <th>50%</th>\n",
       "      <td>24.000000</td>\n",
       "    </tr>\n",
       "    <tr>\n",
       "      <th>75%</th>\n",
       "      <td>122.000000</td>\n",
       "    </tr>\n",
       "    <tr>\n",
       "      <th>max</th>\n",
       "      <td>998.000000</td>\n",
       "    </tr>\n",
       "  </tbody>\n",
       "</table>\n",
       "</div>"
      ],
      "text/plain": [
       "            number\n",
       "count  5737.000000\n",
       "mean    113.890709\n",
       "std     197.636099\n",
       "min       0.000000\n",
       "25%       3.000000\n",
       "50%      24.000000\n",
       "75%     122.000000\n",
       "max     998.000000"
      ]
     },
     "execution_count": 13,
     "metadata": {},
     "output_type": "execute_result"
    }
   ],
   "source": [
    "stats = df['number']\n",
    "pd.DataFrame(stats.describe())"
   ]
  },
  {
   "cell_type": "markdown",
   "id": "574a78c1",
   "metadata": {},
   "source": [
    "<font size=\"2\" face=\"Verdana\">Após a deleção das informações desnecessárias o dataset passa a ter **5.737 linhas** e **4 colunas**</font>"
   ]
  },
  {
   "cell_type": "code",
   "execution_count": 14,
   "id": "cdecb488",
   "metadata": {},
   "outputs": [
    {
     "name": "stdout",
     "output_type": "stream",
     "text": [
      "DIMENSÕES DO DATAFRAME:\n",
      "\n",
      "O Dataframe possui 5737 linhas\n",
      "O Dataframe possui 4 colunas\n"
     ]
    }
   ],
   "source": [
    "# Exibindo informações de Dimensão dos dados\n",
    "print(\"DIMENSÕES DO DATAFRAME:\\n\")\n",
    "print(f\"O Dataframe possui {df.shape[0]} linhas\")\n",
    "print(f\"O Dataframe possui {df.shape[1]} colunas\")"
   ]
  },
  {
   "cell_type": "markdown",
   "id": "313ad1ab",
   "metadata": {},
   "source": [
    "<font size=\"2\" face=\"Verdana\">Em seguida, farei uma análise da coluna **month**, onde, observo que não existem valores faltantes ou repetidos, completando assim os doze meses, para melhor composição das informações gráficas, reduzirei os nomes dos meses da coluna.</font>"
   ]
  },
  {
   "cell_type": "code",
   "execution_count": 15,
   "id": "b99eae3a",
   "metadata": {},
   "outputs": [
    {
     "data": {
      "text/plain": [
       "array(['Janeiro', 'Fevereiro', 'Março', 'Abril', 'Maio', 'Junho', 'Julho',\n",
       "       'Agosto', 'Setembro', 'Outubro', 'Novembro', 'Dezembro'],\n",
       "      dtype=object)"
      ]
     },
     "execution_count": 15,
     "metadata": {},
     "output_type": "execute_result"
    }
   ],
   "source": [
    "df['month'].unique()"
   ]
  },
  {
   "cell_type": "code",
   "execution_count": 16,
   "id": "00f2fe22",
   "metadata": {},
   "outputs": [],
   "source": [
    "# Renomeando os meses para simplificar as informações\n",
    "meses = {'Janeiro':'Jan' ,\n",
    "         'Fevereiro':'Fev',\n",
    "         'Março':'Mar',\n",
    "         'Abril':'Abr',\n",
    "         'Maio':'Mai',\n",
    "         'Junho':'Jun',\n",
    "         'Julho':'Jul',\n",
    "         'Agosto':'Ago',\n",
    "         'Setembro':'Set',\n",
    "         'Outubro':'Out',\n",
    "         'Novembro':'Nov',\n",
    "         'Dezembro':'Dez'\n",
    "}\n",
    "\n",
    "df['month'] = df.month.map(meses)"
   ]
  },
  {
   "cell_type": "markdown",
   "id": "b564d959",
   "metadata": {},
   "source": [
    "<font size=\"2\" face=\"Verdana\">Feito essas alterações, a fim de confirmar os ajustes nos dados, vou imprimir os 5 primeiros e os 5 últimos valores do dataset, dessa forma, vemos que as informações estão todas de acordo com a alteração estabelecida.</font>"
   ]
  },
  {
   "cell_type": "code",
   "execution_count": 17,
   "id": "f3c26a95",
   "metadata": {},
   "outputs": [
    {
     "data": {
      "text/html": [
       "<div>\n",
       "<style scoped>\n",
       "    .dataframe tbody tr th:only-of-type {\n",
       "        vertical-align: middle;\n",
       "    }\n",
       "\n",
       "    .dataframe tbody tr th {\n",
       "        vertical-align: top;\n",
       "    }\n",
       "\n",
       "    .dataframe thead th {\n",
       "        text-align: right;\n",
       "    }\n",
       "</style>\n",
       "<table border=\"1\" class=\"dataframe\">\n",
       "  <thead>\n",
       "    <tr style=\"text-align: right;\">\n",
       "      <th></th>\n",
       "      <th>year</th>\n",
       "      <th>state</th>\n",
       "      <th>month</th>\n",
       "      <th>number</th>\n",
       "    </tr>\n",
       "  </thead>\n",
       "  <tbody>\n",
       "    <tr>\n",
       "      <th>0</th>\n",
       "      <td>1998</td>\n",
       "      <td>AC</td>\n",
       "      <td>Jan</td>\n",
       "      <td>0</td>\n",
       "    </tr>\n",
       "    <tr>\n",
       "      <th>1</th>\n",
       "      <td>1999</td>\n",
       "      <td>AC</td>\n",
       "      <td>Jan</td>\n",
       "      <td>0</td>\n",
       "    </tr>\n",
       "    <tr>\n",
       "      <th>2</th>\n",
       "      <td>2000</td>\n",
       "      <td>AC</td>\n",
       "      <td>Jan</td>\n",
       "      <td>0</td>\n",
       "    </tr>\n",
       "    <tr>\n",
       "      <th>3</th>\n",
       "      <td>2001</td>\n",
       "      <td>AC</td>\n",
       "      <td>Jan</td>\n",
       "      <td>0</td>\n",
       "    </tr>\n",
       "    <tr>\n",
       "      <th>4</th>\n",
       "      <td>2002</td>\n",
       "      <td>AC</td>\n",
       "      <td>Jan</td>\n",
       "      <td>0</td>\n",
       "    </tr>\n",
       "  </tbody>\n",
       "</table>\n",
       "</div>"
      ],
      "text/plain": [
       "   year state month  number\n",
       "0  1998    AC   Jan       0\n",
       "1  1999    AC   Jan       0\n",
       "2  2000    AC   Jan       0\n",
       "3  2001    AC   Jan       0\n",
       "4  2002    AC   Jan       0"
      ]
     },
     "execution_count": 17,
     "metadata": {},
     "output_type": "execute_result"
    }
   ],
   "source": [
    "# Imprimindo os 5 primeiros valores do dataset\n",
    "df.head()"
   ]
  },
  {
   "cell_type": "code",
   "execution_count": 18,
   "id": "09e4cb19",
   "metadata": {},
   "outputs": [
    {
     "data": {
      "text/html": [
       "<div>\n",
       "<style scoped>\n",
       "    .dataframe tbody tr th:only-of-type {\n",
       "        vertical-align: middle;\n",
       "    }\n",
       "\n",
       "    .dataframe tbody tr th {\n",
       "        vertical-align: top;\n",
       "    }\n",
       "\n",
       "    .dataframe thead th {\n",
       "        text-align: right;\n",
       "    }\n",
       "</style>\n",
       "<table border=\"1\" class=\"dataframe\">\n",
       "  <thead>\n",
       "    <tr style=\"text-align: right;\">\n",
       "      <th></th>\n",
       "      <th>year</th>\n",
       "      <th>state</th>\n",
       "      <th>month</th>\n",
       "      <th>number</th>\n",
       "    </tr>\n",
       "  </thead>\n",
       "  <tbody>\n",
       "    <tr>\n",
       "      <th>6449</th>\n",
       "      <td>2012</td>\n",
       "      <td>TO</td>\n",
       "      <td>Dez</td>\n",
       "      <td>128</td>\n",
       "    </tr>\n",
       "    <tr>\n",
       "      <th>6450</th>\n",
       "      <td>2013</td>\n",
       "      <td>TO</td>\n",
       "      <td>Dez</td>\n",
       "      <td>85</td>\n",
       "    </tr>\n",
       "    <tr>\n",
       "      <th>6451</th>\n",
       "      <td>2014</td>\n",
       "      <td>TO</td>\n",
       "      <td>Dez</td>\n",
       "      <td>223</td>\n",
       "    </tr>\n",
       "    <tr>\n",
       "      <th>6452</th>\n",
       "      <td>2015</td>\n",
       "      <td>TO</td>\n",
       "      <td>Dez</td>\n",
       "      <td>373</td>\n",
       "    </tr>\n",
       "    <tr>\n",
       "      <th>6453</th>\n",
       "      <td>2016</td>\n",
       "      <td>TO</td>\n",
       "      <td>Dez</td>\n",
       "      <td>119</td>\n",
       "    </tr>\n",
       "  </tbody>\n",
       "</table>\n",
       "</div>"
      ],
      "text/plain": [
       "      year state month  number\n",
       "6449  2012    TO   Dez     128\n",
       "6450  2013    TO   Dez      85\n",
       "6451  2014    TO   Dez     223\n",
       "6452  2015    TO   Dez     373\n",
       "6453  2016    TO   Dez     119"
      ]
     },
     "execution_count": 18,
     "metadata": {},
     "output_type": "execute_result"
    }
   ],
   "source": [
    "# Imprimindo os 5 ultimos valores do dataset\n",
    "df.tail()"
   ]
  },
  {
   "cell_type": "code",
   "execution_count": 19,
   "id": "4ae386e5",
   "metadata": {},
   "outputs": [
    {
     "data": {
      "text/html": [
       "<div>\n",
       "<style scoped>\n",
       "    .dataframe tbody tr th:only-of-type {\n",
       "        vertical-align: middle;\n",
       "    }\n",
       "\n",
       "    .dataframe tbody tr th {\n",
       "        vertical-align: top;\n",
       "    }\n",
       "\n",
       "    .dataframe thead th {\n",
       "        text-align: right;\n",
       "    }\n",
       "</style>\n",
       "<table border=\"1\" class=\"dataframe\">\n",
       "  <thead>\n",
       "    <tr style=\"text-align: right;\">\n",
       "      <th></th>\n",
       "      <th>year</th>\n",
       "      <th>state</th>\n",
       "      <th>month</th>\n",
       "      <th>number</th>\n",
       "    </tr>\n",
       "  </thead>\n",
       "  <tbody>\n",
       "    <tr>\n",
       "      <th>0</th>\n",
       "      <td>1998</td>\n",
       "      <td>AC</td>\n",
       "      <td>Jan</td>\n",
       "      <td>0</td>\n",
       "    </tr>\n",
       "    <tr>\n",
       "      <th>1</th>\n",
       "      <td>1999</td>\n",
       "      <td>AC</td>\n",
       "      <td>Jan</td>\n",
       "      <td>0</td>\n",
       "    </tr>\n",
       "    <tr>\n",
       "      <th>2</th>\n",
       "      <td>2000</td>\n",
       "      <td>AC</td>\n",
       "      <td>Jan</td>\n",
       "      <td>0</td>\n",
       "    </tr>\n",
       "    <tr>\n",
       "      <th>3</th>\n",
       "      <td>2001</td>\n",
       "      <td>AC</td>\n",
       "      <td>Jan</td>\n",
       "      <td>0</td>\n",
       "    </tr>\n",
       "    <tr>\n",
       "      <th>4</th>\n",
       "      <td>2002</td>\n",
       "      <td>AC</td>\n",
       "      <td>Jan</td>\n",
       "      <td>0</td>\n",
       "    </tr>\n",
       "  </tbody>\n",
       "</table>\n",
       "</div>"
      ],
      "text/plain": [
       "   year state month  number\n",
       "0  1998    AC   Jan       0\n",
       "1  1999    AC   Jan       0\n",
       "2  2000    AC   Jan       0\n",
       "3  2001    AC   Jan       0\n",
       "4  2002    AC   Jan       0"
      ]
     },
     "execution_count": 19,
     "metadata": {},
     "output_type": "execute_result"
    }
   ],
   "source": [
    "# Exibindo o dataset após a conversão\n",
    "df.head()"
   ]
  },
  {
   "cell_type": "markdown",
   "id": "efbaee30",
   "metadata": {},
   "source": [
    "# Respondendo Algumas Perguntas"
   ]
  },
  {
   "cell_type": "markdown",
   "id": "439d4b22",
   "metadata": {},
   "source": [
    "<font size=\"2\" face=\"Verdana\">Agora iremos responder aquelas perguntas principais do início da análise: </font>"
   ]
  },
  {
   "cell_type": "markdown",
   "id": "239fde5e",
   "metadata": {},
   "source": [
    "## **01 - Qual o Ano com maior quantidade de ocorrências?**"
   ]
  },
  {
   "cell_type": "markdown",
   "id": "26bf0efb",
   "metadata": {},
   "source": [
    "<font size=\"2\" face=\"Verdana\"> Primeiro, definirei as cores padrões a serem utilizadas nos gráfico, seguindo as melhores práticas de storytelling, nesse utilizaremos as cores vermelha e cinza, pois o assunto é bem grave. </font>"
   ]
  },
  {
   "cell_type": "code",
   "execution_count": 21,
   "id": "47013cfa",
   "metadata": {},
   "outputs": [],
   "source": [
    "# Definindo variáveis de cores dos gráficos\n",
    "azul = '#3c2a4d'\n",
    "cinza = '#a9a9a9'\n",
    "vermelho = '#740017'"
   ]
  },
  {
   "cell_type": "markdown",
   "id": "633dd422",
   "metadata": {},
   "source": [
    "<font size=\"2\" face=\"Verdana\">Para esta primeira pergunta, será necessário a criação de um novo dataset, especificando os valores de **number** e **year** </font>"
   ]
  },
  {
   "cell_type": "code",
   "execution_count": 20,
   "id": "f3dbc7fd",
   "metadata": {},
   "outputs": [
    {
     "data": {
      "text/html": [
       "<div>\n",
       "<style scoped>\n",
       "    .dataframe tbody tr th:only-of-type {\n",
       "        vertical-align: middle;\n",
       "    }\n",
       "\n",
       "    .dataframe tbody tr th {\n",
       "        vertical-align: top;\n",
       "    }\n",
       "\n",
       "    .dataframe thead th {\n",
       "        text-align: right;\n",
       "    }\n",
       "</style>\n",
       "<table border=\"1\" class=\"dataframe\">\n",
       "  <thead>\n",
       "    <tr style=\"text-align: right;\">\n",
       "      <th></th>\n",
       "      <th>number</th>\n",
       "    </tr>\n",
       "    <tr>\n",
       "      <th>year</th>\n",
       "      <th></th>\n",
       "    </tr>\n",
       "  </thead>\n",
       "  <tbody>\n",
       "    <tr>\n",
       "      <th>1998</th>\n",
       "      <td>18850</td>\n",
       "    </tr>\n",
       "    <tr>\n",
       "      <th>1999</th>\n",
       "      <td>25839</td>\n",
       "    </tr>\n",
       "    <tr>\n",
       "      <th>2000</th>\n",
       "      <td>26691</td>\n",
       "    </tr>\n",
       "    <tr>\n",
       "      <th>2001</th>\n",
       "      <td>28199</td>\n",
       "    </tr>\n",
       "    <tr>\n",
       "      <th>2002</th>\n",
       "      <td>34424</td>\n",
       "    </tr>\n",
       "    <tr>\n",
       "      <th>2003</th>\n",
       "      <td>39299</td>\n",
       "    </tr>\n",
       "    <tr>\n",
       "      <th>2004</th>\n",
       "      <td>34990</td>\n",
       "    </tr>\n",
       "    <tr>\n",
       "      <th>2005</th>\n",
       "      <td>32687</td>\n",
       "    </tr>\n",
       "    <tr>\n",
       "      <th>2006</th>\n",
       "      <td>31318</td>\n",
       "    </tr>\n",
       "    <tr>\n",
       "      <th>2007</th>\n",
       "      <td>30950</td>\n",
       "    </tr>\n",
       "    <tr>\n",
       "      <th>2008</th>\n",
       "      <td>28146</td>\n",
       "    </tr>\n",
       "    <tr>\n",
       "      <th>2009</th>\n",
       "      <td>37382</td>\n",
       "    </tr>\n",
       "    <tr>\n",
       "      <th>2010</th>\n",
       "      <td>34578</td>\n",
       "    </tr>\n",
       "    <tr>\n",
       "      <th>2011</th>\n",
       "      <td>32052</td>\n",
       "    </tr>\n",
       "    <tr>\n",
       "      <th>2012</th>\n",
       "      <td>37846</td>\n",
       "    </tr>\n",
       "    <tr>\n",
       "      <th>2013</th>\n",
       "      <td>33513</td>\n",
       "    </tr>\n",
       "    <tr>\n",
       "      <th>2014</th>\n",
       "      <td>36844</td>\n",
       "    </tr>\n",
       "    <tr>\n",
       "      <th>2015</th>\n",
       "      <td>38631</td>\n",
       "    </tr>\n",
       "    <tr>\n",
       "      <th>2016</th>\n",
       "      <td>38760</td>\n",
       "    </tr>\n",
       "    <tr>\n",
       "      <th>2017</th>\n",
       "      <td>32392</td>\n",
       "    </tr>\n",
       "  </tbody>\n",
       "</table>\n",
       "</div>"
      ],
      "text/plain": [
       "      number\n",
       "year        \n",
       "1998   18850\n",
       "1999   25839\n",
       "2000   26691\n",
       "2001   28199\n",
       "2002   34424\n",
       "2003   39299\n",
       "2004   34990\n",
       "2005   32687\n",
       "2006   31318\n",
       "2007   30950\n",
       "2008   28146\n",
       "2009   37382\n",
       "2010   34578\n",
       "2011   32052\n",
       "2012   37846\n",
       "2013   33513\n",
       "2014   36844\n",
       "2015   38631\n",
       "2016   38760\n",
       "2017   32392"
      ]
     },
     "execution_count": 20,
     "metadata": {},
     "output_type": "execute_result"
    }
   ],
   "source": [
    "# Criando um novo dataset de números por anos\n",
    "number_by_year = df[['number','year']]\n",
    "number_by_year = number_by_year.groupby('year').sum()\n",
    "number_by_year"
   ]
  },
  {
   "cell_type": "markdown",
   "id": "ea492548",
   "metadata": {},
   "source": [
    "<font size=\"2\" face=\"Verdana\"> A primeira representação serve para responder a primeira pergunta, com isso vemos que o ano com a maior quantidade de relatos foi o ano **2003** com **39.299** relatos, tais registros englobam um total de **22 estados** que constam no dataset.\n",
    "\n",
    "Apesar de **2003** possuir a maior quantidade de relatos, podemos ver que em anos posteriores houveram picos de altos níveis de registro como em **2009** com **37.382**, **2012** com **37.846**, **2015** com **38.631** e **2016** com **38.760** registros</font>"
   ]
  },
  {
   "cell_type": "code",
   "execution_count": 22,
   "id": "a5a26f95",
   "metadata": {},
   "outputs": [
    {
     "data": {
      "image/png": "[encoded data removed]",
      "text/plain": [
       "<Figure size 1008x432 with 1 Axes>"
      ]
     },
     "metadata": {
      "needs_background": "light"
     },
     "output_type": "display_data"
    }
   ],
   "source": [
    "# Plotar o total de relatos durante os anos\n",
    "fig, ax = plt.subplots(figsize=(14,6))\n",
    "number_by_year.plot(kind='line', ax=ax, color=cinza, linewidth = 2)\n",
    "ax.set_ylabel('Quantidade de relatos')\n",
    "ax.set_xlabel(None)\n",
    "ax.set_xticks(df['year'].unique())\n",
    "ax.get_legend().remove()\n",
    "\n",
    "# Remover os grids\n",
    "ax.spines['right'].set_visible(False)\n",
    "ax.spines['top'].set_visible(False)\n",
    "\n",
    "# Legenda\n",
    "plt.text(2018, 32052,\n",
    "        \"Relatos\",\n",
    "        fontsize=14,\n",
    "        weight='bold',\n",
    "        color=cinza)\n",
    "\n",
    "# Título\n",
    "plt.text(1998,45000,\n",
    "        \"Relatos por ano\",\n",
    "        fontsize=18,\n",
    "        color='black',\n",
    "        weight='bold')\n",
    "\n",
    "# Subtítulo\n",
    "plt.text(1998,43000,\n",
    "        \"Total de relatos registrados \"\n",
    "        \"em todo país entre 1998 e 2017\",\n",
    "        fontsize=14,\n",
    "        color=cinza)\n",
    "\n",
    "# Texto em destaque\n",
    "plt.text(1998,37000,\n",
    "        \"O Ano com a maior quantidade\\n\"\n",
    "        \"de relatos foi em 2003 com \\n\"\n",
    "        \"um total de 39.299 registros\",\n",
    "        fontsize=12,\n",
    "        color=vermelho)\n",
    "\n",
    "plt.xticks(rotation = 0, ha = 'center')\n",
    "ax.scatter(x=2003, y=39500, s=50, color=vermelho)\n",
    "plt.tight_layout()"
   ]
  },
  {
   "cell_type": "markdown",
   "id": "e378fcc6",
   "metadata": {},
   "source": [
    "## **02 - Qual o Ano com menor quantidade de ocorrências?**"
   ]
  },
  {
   "cell_type": "markdown",
   "id": "5998af54",
   "metadata": {},
   "source": [
    "<font size=\"2\" face=\"Verdana\">Observando o gráfico vemos uma ascensão dos registros a partir do primeiro ano, ou seja, iniciando em **1998**, mas vemos que o valor não se inicia a partir do zero, dessa forma para melhor detalhe, filtramos  os dados especificando o ano de **1998** e obtemos o valor **18.850** de registros, sendo este o menos valor do dataset </font>"
   ]
  },
  {
   "cell_type": "code",
   "execution_count": 24,
   "id": "b292ef2a",
   "metadata": {},
   "outputs": [
    {
     "data": {
      "text/html": [
       "<div>\n",
       "<style scoped>\n",
       "    .dataframe tbody tr th:only-of-type {\n",
       "        vertical-align: middle;\n",
       "    }\n",
       "\n",
       "    .dataframe tbody tr th {\n",
       "        vertical-align: top;\n",
       "    }\n",
       "\n",
       "    .dataframe thead th {\n",
       "        text-align: right;\n",
       "    }\n",
       "</style>\n",
       "<table border=\"1\" class=\"dataframe\">\n",
       "  <thead>\n",
       "    <tr style=\"text-align: right;\">\n",
       "      <th></th>\n",
       "      <th>number</th>\n",
       "    </tr>\n",
       "    <tr>\n",
       "      <th>year</th>\n",
       "      <th></th>\n",
       "    </tr>\n",
       "  </thead>\n",
       "  <tbody>\n",
       "    <tr>\n",
       "      <th>1998</th>\n",
       "      <td>18850</td>\n",
       "    </tr>\n",
       "  </tbody>\n",
       "</table>\n",
       "</div>"
      ],
      "text/plain": [
       "      number\n",
       "year        \n",
       "1998   18850"
      ]
     },
     "execution_count": 24,
     "metadata": {},
     "output_type": "execute_result"
    }
   ],
   "source": [
    "number_min = number_by_year.loc[number_by_year['number'] == number_by_year['number'].min()]\n",
    "number_min"
   ]
  },
  {
   "cell_type": "markdown",
   "id": "a70c7688",
   "metadata": {},
   "source": [
    "## **03 - Qual o Estado com maior quantidade de ocorrências?**"
   ]
  },
  {
   "cell_type": "markdown",
   "id": "cbe2a049",
   "metadata": {},
   "source": [
    "<font size=\"2\" face=\"Verdana\"> Conforme observado anteriormente, o dataset é composto por **22 estados**, para identificar o estado com maior número de ocorrências, criarei um novo dataset com as informações da coluna **number** e **state** agrupados pela quantidade de registros. </font>"
   ]
  },
  {
   "cell_type": "code",
   "execution_count": 25,
   "id": "aa53dc47",
   "metadata": {},
   "outputs": [
    {
     "data": {
      "text/html": [
       "<div>\n",
       "<style scoped>\n",
       "    .dataframe tbody tr th:only-of-type {\n",
       "        vertical-align: middle;\n",
       "    }\n",
       "\n",
       "    .dataframe tbody tr th {\n",
       "        vertical-align: top;\n",
       "    }\n",
       "\n",
       "    .dataframe thead th {\n",
       "        text-align: right;\n",
       "    }\n",
       "</style>\n",
       "<table border=\"1\" class=\"dataframe\">\n",
       "  <thead>\n",
       "    <tr style=\"text-align: right;\">\n",
       "      <th></th>\n",
       "      <th>number</th>\n",
       "    </tr>\n",
       "    <tr>\n",
       "      <th>state</th>\n",
       "      <th></th>\n",
       "    </tr>\n",
       "  </thead>\n",
       "  <tbody>\n",
       "    <tr>\n",
       "      <th>MT</th>\n",
       "      <td>96178</td>\n",
       "    </tr>\n",
       "    <tr>\n",
       "      <th>PB</th>\n",
       "      <td>52432</td>\n",
       "    </tr>\n",
       "    <tr>\n",
       "      <th>SP</th>\n",
       "      <td>51118</td>\n",
       "    </tr>\n",
       "    <tr>\n",
       "      <th>BA</th>\n",
       "      <td>44718</td>\n",
       "    </tr>\n",
       "    <tr>\n",
       "      <th>PI</th>\n",
       "      <td>37777</td>\n",
       "    </tr>\n",
       "    <tr>\n",
       "      <th>GO</th>\n",
       "      <td>37677</td>\n",
       "    </tr>\n",
       "    <tr>\n",
       "      <th>MG</th>\n",
       "      <td>37453</td>\n",
       "    </tr>\n",
       "    <tr>\n",
       "      <th>TO</th>\n",
       "      <td>33675</td>\n",
       "    </tr>\n",
       "    <tr>\n",
       "      <th>AM</th>\n",
       "      <td>30636</td>\n",
       "    </tr>\n",
       "    <tr>\n",
       "      <th>CE</th>\n",
       "      <td>30415</td>\n",
       "    </tr>\n",
       "    <tr>\n",
       "      <th>MA</th>\n",
       "      <td>25082</td>\n",
       "    </tr>\n",
       "    <tr>\n",
       "      <th>PE</th>\n",
       "      <td>24498</td>\n",
       "    </tr>\n",
       "    <tr>\n",
       "      <th>PA</th>\n",
       "      <td>24459</td>\n",
       "    </tr>\n",
       "    <tr>\n",
       "      <th>RR</th>\n",
       "      <td>24384</td>\n",
       "    </tr>\n",
       "    <tr>\n",
       "      <th>SC</th>\n",
       "      <td>24359</td>\n",
       "    </tr>\n",
       "    <tr>\n",
       "      <th>AP</th>\n",
       "      <td>21831</td>\n",
       "    </tr>\n",
       "    <tr>\n",
       "      <th>RO</th>\n",
       "      <td>20259</td>\n",
       "    </tr>\n",
       "    <tr>\n",
       "      <th>AC</th>\n",
       "      <td>18452</td>\n",
       "    </tr>\n",
       "    <tr>\n",
       "      <th>ES</th>\n",
       "      <td>6546</td>\n",
       "    </tr>\n",
       "    <tr>\n",
       "      <th>AL</th>\n",
       "      <td>4644</td>\n",
       "    </tr>\n",
       "    <tr>\n",
       "      <th>DF</th>\n",
       "      <td>3561</td>\n",
       "    </tr>\n",
       "    <tr>\n",
       "      <th>SE</th>\n",
       "      <td>3237</td>\n",
       "    </tr>\n",
       "  </tbody>\n",
       "</table>\n",
       "</div>"
      ],
      "text/plain": [
       "       number\n",
       "state        \n",
       "MT      96178\n",
       "PB      52432\n",
       "SP      51118\n",
       "BA      44718\n",
       "PI      37777\n",
       "GO      37677\n",
       "MG      37453\n",
       "TO      33675\n",
       "AM      30636\n",
       "CE      30415\n",
       "MA      25082\n",
       "PE      24498\n",
       "PA      24459\n",
       "RR      24384\n",
       "SC      24359\n",
       "AP      21831\n",
       "RO      20259\n",
       "AC      18452\n",
       "ES       6546\n",
       "AL       4644\n",
       "DF       3561\n",
       "SE       3237"
      ]
     },
     "execution_count": 25,
     "metadata": {},
     "output_type": "execute_result"
    }
   ],
   "source": [
    "number_by_state = df[['number','state']]\n",
    "number_by_state = number_by_state.groupby('state').sum().sort_values(by ='number', ascending = False)\n",
    "number_by_state"
   ]
  },
  {
   "cell_type": "markdown",
   "id": "e9e19d5b",
   "metadata": {},
   "source": [
    "<font size=\"2\" face=\"Verdana\"> Como resultado, podemos observar no gráfico que o estado com a maior quantidade de registro é o **Mato Grosso**, é um fato curioso por conta do seu bioma ser o pantanal, característico por sua planície inundada, o que mostra os efeitos da ação humana na destruição da vegetação natural com, por exemplo, adubos químicos e o dematamento.\n",
    "\n",
    "<p  align=center><br><img src='mapa-do-brasil.png' ></p>    \n",
    "    \n",
    "    \n",
    "    \n",
    "Vemos que **Mato Grosso - MT** possui um total de **96.178** relatos de incêndios, com quase o dobro de registros do segundo lugar, o estado da **Paraiba - PB** com **42.432** registros.</font>"
   ]
  },
  {
   "cell_type": "code",
   "execution_count": 27,
   "id": "57990727",
   "metadata": {},
   "outputs": [
    {
     "data": {
      "image/png": "[encoded data removed]",
      "text/plain": [
       "<Figure size 1008x432 with 1 Axes>"
      ]
     },
     "metadata": {
      "needs_background": "light"
     },
     "output_type": "display_data"
    }
   ],
   "source": [
    "# Plotar o total de relatos por estado\n",
    "fig, ax = plt.subplots(figsize=(14,6))\n",
    "number_by_state.plot(kind='bar', width=0.8, ax=ax, color=cinza)\n",
    "ax.set_ylabel('Quantidade de Relatos')\n",
    "ax.set_xlabel('Estados')\n",
    "ax.get_legend().remove()\n",
    "\n",
    "# Removendo o grid\n",
    "ax.spines['right'].set_visible(False)\n",
    "ax.spines['top'].set_visible(False)\n",
    "\n",
    "# Título\n",
    "plt.text(0, 118000,\n",
    "        \"Relatos por estado\", \n",
    "        fontsize=18,\n",
    "        color='black', \n",
    "        weight='bold')\n",
    "\n",
    "# Subtítulo\n",
    "plt.text(0, 109900,\n",
    "        \"Total de Relatos por estado entre 1998 e 2017\",\n",
    "        fontsize=14,\n",
    "        color=cinza)\n",
    "\n",
    "# Texto em destaque\n",
    "plt.text(1, 84000,\n",
    "        \"O Estado com o maior número de relatos de incêndio\\n\"\n",
    "        \"neste período foi Mato Grosso\\n\"\n",
    "        \"com um total de 96.178 registros\",\n",
    "        fontsize=12,\n",
    "        color=vermelho)\n",
    "\n",
    "plt.xticks(rotation=0, ha='center')\n",
    "ax.get_children()[0].set_color(vermelho)\n",
    "plt.tight_layout()"
   ]
  },
  {
   "cell_type": "markdown",
   "id": "d2b012b9",
   "metadata": {},
   "source": [
    "## **04 - Qual o Estado com menor quantidade de ocorrências?**"
   ]
  },
  {
   "cell_type": "markdown",
   "id": "f59aa36d",
   "metadata": {},
   "source": [
    "<font size=\"2\" face=\"Verdana\">No gráfico, observamos que o estado com a menor quantidade de registros é o **Sergipe - SE**, detalhei o estado com um filtro para identificar os registros e observamos que essa região possui o valor de **3.237** relatos. \n",
    "\n",
    "Vemos um sentido neste resultado pois o estado é o menor do Brasil, além de se encontrar na costa atlãntica do nordeste, é cortado pelo Rio São Francisco.</font>"
   ]
  },
  {
   "cell_type": "code",
   "execution_count": 28,
   "id": "513725e0",
   "metadata": {},
   "outputs": [
    {
     "data": {
      "text/html": [
       "<div>\n",
       "<style scoped>\n",
       "    .dataframe tbody tr th:only-of-type {\n",
       "        vertical-align: middle;\n",
       "    }\n",
       "\n",
       "    .dataframe tbody tr th {\n",
       "        vertical-align: top;\n",
       "    }\n",
       "\n",
       "    .dataframe thead th {\n",
       "        text-align: right;\n",
       "    }\n",
       "</style>\n",
       "<table border=\"1\" class=\"dataframe\">\n",
       "  <thead>\n",
       "    <tr style=\"text-align: right;\">\n",
       "      <th></th>\n",
       "      <th>number</th>\n",
       "    </tr>\n",
       "    <tr>\n",
       "      <th>state</th>\n",
       "      <th></th>\n",
       "    </tr>\n",
       "  </thead>\n",
       "  <tbody>\n",
       "    <tr>\n",
       "      <th>SE</th>\n",
       "      <td>3237</td>\n",
       "    </tr>\n",
       "  </tbody>\n",
       "</table>\n",
       "</div>"
      ],
      "text/plain": [
       "       number\n",
       "state        \n",
       "SE       3237"
      ]
     },
     "execution_count": 28,
     "metadata": {},
     "output_type": "execute_result"
    }
   ],
   "source": [
    "state_min = number_by_state.loc[number_by_state['number'] == number_by_state['number'].min()]\n",
    "state_min"
   ]
  },
  {
   "cell_type": "markdown",
   "id": "8910d4a4",
   "metadata": {},
   "source": [
    "## **05 - Qual o Mês com maior quantidade de ocorrências?**"
   ]
  },
  {
   "cell_type": "markdown",
   "id": "f2675ca1",
   "metadata": {},
   "source": [
    "<font size=\"2\" face=\"Verdana\"> Para identificar o mês com o maior número de registros de incêndios, criei um novo dataset com as colunas **number** e **month**, agrupando dessa forma os valores por mês.</font>"
   ]
  },
  {
   "cell_type": "code",
   "execution_count": 29,
   "id": "d6066a28",
   "metadata": {},
   "outputs": [
    {
     "data": {
      "text/html": [
       "<div>\n",
       "<style scoped>\n",
       "    .dataframe tbody tr th:only-of-type {\n",
       "        vertical-align: middle;\n",
       "    }\n",
       "\n",
       "    .dataframe tbody tr th {\n",
       "        vertical-align: top;\n",
       "    }\n",
       "\n",
       "    .dataframe thead th {\n",
       "        text-align: right;\n",
       "    }\n",
       "</style>\n",
       "<table border=\"1\" class=\"dataframe\">\n",
       "  <thead>\n",
       "    <tr style=\"text-align: right;\">\n",
       "      <th></th>\n",
       "      <th>number</th>\n",
       "    </tr>\n",
       "    <tr>\n",
       "      <th>month</th>\n",
       "      <th></th>\n",
       "    </tr>\n",
       "  </thead>\n",
       "  <tbody>\n",
       "    <tr>\n",
       "      <th>Abr</th>\n",
       "      <td>26902</td>\n",
       "    </tr>\n",
       "    <tr>\n",
       "      <th>Mar</th>\n",
       "      <td>29406</td>\n",
       "    </tr>\n",
       "    <tr>\n",
       "      <th>Fev</th>\n",
       "      <td>29567</td>\n",
       "    </tr>\n",
       "    <tr>\n",
       "      <th>Mai</th>\n",
       "      <td>33645</td>\n",
       "    </tr>\n",
       "    <tr>\n",
       "      <th>Jan</th>\n",
       "      <td>45299</td>\n",
       "    </tr>\n",
       "    <tr>\n",
       "      <th>Set</th>\n",
       "      <td>48296</td>\n",
       "    </tr>\n",
       "    <tr>\n",
       "      <th>Dez</th>\n",
       "      <td>53800</td>\n",
       "    </tr>\n",
       "    <tr>\n",
       "      <th>Jun</th>\n",
       "      <td>54731</td>\n",
       "    </tr>\n",
       "    <tr>\n",
       "      <th>Ago</th>\n",
       "      <td>80243</td>\n",
       "    </tr>\n",
       "    <tr>\n",
       "      <th>Nov</th>\n",
       "      <td>80981</td>\n",
       "    </tr>\n",
       "    <tr>\n",
       "      <th>Out</th>\n",
       "      <td>82068</td>\n",
       "    </tr>\n",
       "    <tr>\n",
       "      <th>Jul</th>\n",
       "      <td>88453</td>\n",
       "    </tr>\n",
       "  </tbody>\n",
       "</table>\n",
       "</div>"
      ],
      "text/plain": [
       "       number\n",
       "month        \n",
       "Abr     26902\n",
       "Mar     29406\n",
       "Fev     29567\n",
       "Mai     33645\n",
       "Jan     45299\n",
       "Set     48296\n",
       "Dez     53800\n",
       "Jun     54731\n",
       "Ago     80243\n",
       "Nov     80981\n",
       "Out     82068\n",
       "Jul     88453"
      ]
     },
     "execution_count": 29,
     "metadata": {},
     "output_type": "execute_result"
    }
   ],
   "source": [
    "number_by_month = df[['number','month']]\n",
    "number_by_month = number_by_month.groupby('month').sum().sort_values(by='number', ascending = True)\n",
    "number_by_month"
   ]
  },
  {
   "cell_type": "markdown",
   "id": "00bcd4d8",
   "metadata": {},
   "source": [
    "<font size=\"2\" face=\"Verdana\"> Gerando o gráfico podemos observar que o mês de **Julho** é o mês que mais registra incêndios com **88.453** relatos, precedido dos meses de Outubro com **82.068**, Novembro com **80.981** e Agosto com **80.243**, correspondendo ao **Segundo semestre do ano**. </font>"
   ]
  },
  {
   "cell_type": "code",
   "execution_count": 31,
   "id": "bf542222",
   "metadata": {
    "code_folding": []
   },
   "outputs": [
    {
     "data": {
      "image/png": "[encoded data removed]",
      "text/plain": [
       "<Figure size 1008x432 with 1 Axes>"
      ]
     },
     "metadata": {
      "needs_background": "light"
     },
     "output_type": "display_data"
    }
   ],
   "source": [
    "fig, ax = plt.subplots(figsize=(14,6))\n",
    "number_by_month.plot(kind='barh', width=0.8, ax=ax, color=cinza)\n",
    "ax.set_ylabel('Meses')\n",
    "ax.set_xlabel('Quantidade de Relatos')\n",
    "ax.get_legend().remove()\n",
    "\n",
    "# Remover grid\n",
    "ax.spines['right'].set_visible(False)\n",
    "ax.spines['top'].set_visible(False)\n",
    "\n",
    "# Título\n",
    "plt.text(0, 14, \n",
    "        \"Meses com mais relatos\",\n",
    "        fontsize=18,\n",
    "        color='black',\n",
    "        weight='bold')\n",
    "\n",
    "# Subtítulo\n",
    "plt.text(0,13,\n",
    "        \"Total de relatos por mês entre 1998 e 2017\",\n",
    "        fontsize=14,\n",
    "        color=cinza)\n",
    "\n",
    "# Valor de destaque\n",
    "plt.text(90000, 10.8,\n",
    "        \"88.453\",\n",
    "        fontsize=14,\n",
    "        color=vermelho)\n",
    "\n",
    "plt.text(84000, 9.8,\n",
    "        \"82.068\",\n",
    "        fontsize=14,\n",
    "        color=vermelho)\n",
    "\n",
    "plt.text(83000, 8.8,\n",
    "        \"80.981\",\n",
    "        fontsize=14,\n",
    "        color=vermelho)\n",
    "\n",
    "plt.text(82000, 7.8,\n",
    "        \"80.243\",\n",
    "        fontsize=14,\n",
    "        color=vermelho)\n",
    "\n",
    "# Texto em destaque\n",
    "plt.text(53800, 2,\n",
    "        \"Os meses com maior quantidade de relatos\\n\"\n",
    "        \"são: Julho, Outubro, Novembro e Agosto.\",\n",
    "        fontsize=12,\n",
    "        color=vermelho)\n",
    "\n",
    "plt.xticks(rotation = 0, ha='center')\n",
    "ax.get_children()[11].set_color(vermelho)\n",
    "ax.get_children()[10].set_color(vermelho) \n",
    "ax.get_children()[9].set_color(vermelho) \n",
    "ax.get_children()[8].set_color(vermelho) \n",
    "plt.tight_layout()"
   ]
  },
  {
   "cell_type": "markdown",
   "id": "08f00a8a",
   "metadata": {},
   "source": [
    "## **06 - Qual o Mês com menor quantidade de ocorrências?**"
   ]
  },
  {
   "cell_type": "markdown",
   "id": "65f844d5",
   "metadata": {},
   "source": [
    "<font size=\"2\" face=\"Verdana\">No gráfico, observamos que mês com a menor quantidade de relatos é **Abril**, detalhando e filtrando as informações, obtemos o total de **26.902** registros.</font>"
   ]
  },
  {
   "cell_type": "code",
   "execution_count": 32,
   "id": "9769c9cc",
   "metadata": {},
   "outputs": [
    {
     "data": {
      "text/html": [
       "<div>\n",
       "<style scoped>\n",
       "    .dataframe tbody tr th:only-of-type {\n",
       "        vertical-align: middle;\n",
       "    }\n",
       "\n",
       "    .dataframe tbody tr th {\n",
       "        vertical-align: top;\n",
       "    }\n",
       "\n",
       "    .dataframe thead th {\n",
       "        text-align: right;\n",
       "    }\n",
       "</style>\n",
       "<table border=\"1\" class=\"dataframe\">\n",
       "  <thead>\n",
       "    <tr style=\"text-align: right;\">\n",
       "      <th></th>\n",
       "      <th>number</th>\n",
       "    </tr>\n",
       "    <tr>\n",
       "      <th>month</th>\n",
       "      <th></th>\n",
       "    </tr>\n",
       "  </thead>\n",
       "  <tbody>\n",
       "    <tr>\n",
       "      <th>Abr</th>\n",
       "      <td>26902</td>\n",
       "    </tr>\n",
       "  </tbody>\n",
       "</table>\n",
       "</div>"
      ],
      "text/plain": [
       "       number\n",
       "month        \n",
       "Abr     26902"
      ]
     },
     "execution_count": 32,
     "metadata": {},
     "output_type": "execute_result"
    }
   ],
   "source": [
    "month_min = number_by_month.loc[number_by_month['number'] == number_by_month['number'].min()]\n",
    "month_min"
   ]
  },
  {
   "cell_type": "code",
   "execution_count": null,
   "id": "0411bbfa",
   "metadata": {},
   "outputs": [],
   "source": [
    "df['number'].sum()"
   ]
  },
  {
   "cell_type": "markdown",
   "id": "6bcc2603",
   "metadata": {},
   "source": [
    "# Detalhando o Estado mais Afetado"
   ]
  },
  {
   "cell_type": "markdown",
   "id": "ff604a82",
   "metadata": {},
   "source": [
    "<font size=\"2\" face=\"Verdana\"> Conforme visto anteriormente, o estado do **Mato Grosso**, registrou a maior quantidade de relatos, com isso, detalharei os registros deste estado.\n",
    "\n",
    "Primeiro filtrei o dataset especificando o estado no MT e criei um novo dataset denominado **mt_year**, nele agrupei três colunas, **state**, **year** e **number** agrupados pelo ano.</font>"
   ]
  },
  {
   "cell_type": "code",
   "execution_count": 33,
   "id": "bcc1b13a",
   "metadata": {},
   "outputs": [
    {
     "data": {
      "text/html": [
       "<div>\n",
       "<style scoped>\n",
       "    .dataframe tbody tr th:only-of-type {\n",
       "        vertical-align: middle;\n",
       "    }\n",
       "\n",
       "    .dataframe tbody tr th {\n",
       "        vertical-align: top;\n",
       "    }\n",
       "\n",
       "    .dataframe thead th {\n",
       "        text-align: right;\n",
       "    }\n",
       "</style>\n",
       "<table border=\"1\" class=\"dataframe\">\n",
       "  <thead>\n",
       "    <tr style=\"text-align: right;\">\n",
       "      <th></th>\n",
       "      <th>number</th>\n",
       "    </tr>\n",
       "    <tr>\n",
       "      <th>year</th>\n",
       "      <th></th>\n",
       "    </tr>\n",
       "  </thead>\n",
       "  <tbody>\n",
       "    <tr>\n",
       "      <th>1998</th>\n",
       "      <td>2399</td>\n",
       "    </tr>\n",
       "    <tr>\n",
       "      <th>1999</th>\n",
       "      <td>2975</td>\n",
       "    </tr>\n",
       "    <tr>\n",
       "      <th>2000</th>\n",
       "      <td>3896</td>\n",
       "    </tr>\n",
       "    <tr>\n",
       "      <th>2001</th>\n",
       "      <td>3084</td>\n",
       "    </tr>\n",
       "    <tr>\n",
       "      <th>2002</th>\n",
       "      <td>3660</td>\n",
       "    </tr>\n",
       "    <tr>\n",
       "      <th>2003</th>\n",
       "      <td>6937</td>\n",
       "    </tr>\n",
       "    <tr>\n",
       "      <th>2004</th>\n",
       "      <td>4806</td>\n",
       "    </tr>\n",
       "    <tr>\n",
       "      <th>2005</th>\n",
       "      <td>5382</td>\n",
       "    </tr>\n",
       "    <tr>\n",
       "      <th>2006</th>\n",
       "      <td>4284</td>\n",
       "    </tr>\n",
       "    <tr>\n",
       "      <th>2007</th>\n",
       "      <td>3511</td>\n",
       "    </tr>\n",
       "    <tr>\n",
       "      <th>2008</th>\n",
       "      <td>3397</td>\n",
       "    </tr>\n",
       "    <tr>\n",
       "      <th>2009</th>\n",
       "      <td>8187</td>\n",
       "    </tr>\n",
       "    <tr>\n",
       "      <th>2010</th>\n",
       "      <td>6249</td>\n",
       "    </tr>\n",
       "    <tr>\n",
       "      <th>2011</th>\n",
       "      <td>5387</td>\n",
       "    </tr>\n",
       "    <tr>\n",
       "      <th>2012</th>\n",
       "      <td>5338</td>\n",
       "    </tr>\n",
       "    <tr>\n",
       "      <th>2013</th>\n",
       "      <td>5235</td>\n",
       "    </tr>\n",
       "    <tr>\n",
       "      <th>2014</th>\n",
       "      <td>5889</td>\n",
       "    </tr>\n",
       "    <tr>\n",
       "      <th>2015</th>\n",
       "      <td>6257</td>\n",
       "    </tr>\n",
       "    <tr>\n",
       "      <th>2016</th>\n",
       "      <td>3648</td>\n",
       "    </tr>\n",
       "    <tr>\n",
       "      <th>2017</th>\n",
       "      <td>5657</td>\n",
       "    </tr>\n",
       "  </tbody>\n",
       "</table>\n",
       "</div>"
      ],
      "text/plain": [
       "      number\n",
       "year        \n",
       "1998    2399\n",
       "1999    2975\n",
       "2000    3896\n",
       "2001    3084\n",
       "2002    3660\n",
       "2003    6937\n",
       "2004    4806\n",
       "2005    5382\n",
       "2006    4284\n",
       "2007    3511\n",
       "2008    3397\n",
       "2009    8187\n",
       "2010    6249\n",
       "2011    5387\n",
       "2012    5338\n",
       "2013    5235\n",
       "2014    5889\n",
       "2015    6257\n",
       "2016    3648\n",
       "2017    5657"
      ]
     },
     "execution_count": 33,
     "metadata": {},
     "output_type": "execute_result"
    }
   ],
   "source": [
    "mt_year = df[['state','year','number']]\n",
    "mt_year = mt_year[mt_year['state'] == 'MT'].groupby(by=['year']).sum()\n",
    "mt_year"
   ]
  },
  {
   "cell_type": "markdown",
   "id": "902cb4bf",
   "metadata": {},
   "source": [
    "<font size=\"2\" face=\"Verdana\">Representando os dados no gráfico, podemos observar que a maior quantidade de relatos ocorreu em **2009** com um total de **8.187** registros, sendo prosseguido por uma leve queda nos três anos seguintes, com um leve aumento nos anos seguintes.\n",
    "\n",
    "É interessante observar que de **2008** a **2009** houve um grande salto representando mais que o dobro de registros, algo que se torna bem preocupante, pois a degradação é alta em tão pouco tempo.\n",
    "</font>"
   ]
  },
  {
   "cell_type": "code",
   "execution_count": 34,
   "id": "da52faf0",
   "metadata": {
    "scrolled": false
   },
   "outputs": [
    {
     "data": {
      "image/png": "[encoded data removed]",
      "text/plain": [
       "<Figure size 1008x432 with 1 Axes>"
      ]
     },
     "metadata": {
      "needs_background": "light"
     },
     "output_type": "display_data"
    }
   ],
   "source": [
    "# Plotar o total de relatos para o estado de MT\n",
    "\n",
    "fig, ax = plt.subplots(figsize=(14,6))\n",
    "mt_year.plot(kind='line', ax=ax, color=cinza)\n",
    "#am_year.plot(kind='line', ax=ax, color=cinza)\n",
    "ax.set_ylabel('Total de Relatos')\n",
    "ax.set_xlabel(None)\n",
    "ax.set_xticks(df['year'].unique())\n",
    "ax.get_legend().remove()\n",
    "\n",
    "# Remover os grids\n",
    "ax.spines['right'].set_visible(False)\n",
    "ax.spines['top'].set_visible(False)\n",
    "\n",
    "# Legenda\n",
    "plt.text(2017.5,5900,\n",
    "        \"Relatos\",\n",
    "        fontsize=14,\n",
    "        weight='bold',\n",
    "        color=vermelho)\n",
    "\n",
    "# Título\n",
    "plt.text(1998,9500,\n",
    "        \"Relato\",\n",
    "        fontsize=18,\n",
    "        weight='bold',\n",
    "        color='black')\n",
    "\n",
    "# Subtítulo\n",
    "plt.text(1998,9000,\n",
    "        \"Total de relatos do estado de MT entre 1998 e 2017\",\n",
    "        fontsize=14,\n",
    "        color=cinza)\n",
    "\n",
    "# Texto em destaque\n",
    "plt.text(2010,8000,\n",
    "        \"A maior quantidade de relatos para MT\\n\"\n",
    "        \"foi em 2009 com um total de 8.187 registros\",\n",
    "        fontsize=12,\n",
    "        color=vermelho)\n",
    "\n",
    "ax.scatter(x=2009, y=8250, s=50, color=vermelho)\n",
    "plt.xticks(rotation = 0, ha = 'center')\n",
    "plt.tight_layout()"
   ]
  },
  {
   "cell_type": "markdown",
   "id": "6eab317c",
   "metadata": {},
   "source": [
    "<font size=\"2\" face=\"Verdana\"> Seguindo com a representação gráfica dos dados especificamente do estado de MT, gerei um dataset referente aos dados mensais, com as colunas **state**, **month**, **number** agrupados pela ultima citada, buscando enteder qual o nível de relatos mais detalhadamente. </font>"
   ]
  },
  {
   "cell_type": "code",
   "execution_count": 43,
   "id": "7bca0c71",
   "metadata": {},
   "outputs": [
    {
     "data": {
      "text/html": [
       "<div>\n",
       "<style scoped>\n",
       "    .dataframe tbody tr th:only-of-type {\n",
       "        vertical-align: middle;\n",
       "    }\n",
       "\n",
       "    .dataframe tbody tr th {\n",
       "        vertical-align: top;\n",
       "    }\n",
       "\n",
       "    .dataframe thead th {\n",
       "        text-align: right;\n",
       "    }\n",
       "</style>\n",
       "<table border=\"1\" class=\"dataframe\">\n",
       "  <thead>\n",
       "    <tr style=\"text-align: right;\">\n",
       "      <th></th>\n",
       "      <th>number</th>\n",
       "    </tr>\n",
       "    <tr>\n",
       "      <th>month</th>\n",
       "      <th></th>\n",
       "    </tr>\n",
       "  </thead>\n",
       "  <tbody>\n",
       "    <tr>\n",
       "      <th>Set</th>\n",
       "      <td>1598</td>\n",
       "    </tr>\n",
       "    <tr>\n",
       "      <th>Ago</th>\n",
       "      <td>4714</td>\n",
       "    </tr>\n",
       "    <tr>\n",
       "      <th>Jun</th>\n",
       "      <td>7084</td>\n",
       "    </tr>\n",
       "    <tr>\n",
       "      <th>Jul</th>\n",
       "      <td>7455</td>\n",
       "    </tr>\n",
       "    <tr>\n",
       "      <th>Fev</th>\n",
       "      <td>7456</td>\n",
       "    </tr>\n",
       "    <tr>\n",
       "      <th>Dez</th>\n",
       "      <td>7593</td>\n",
       "    </tr>\n",
       "    <tr>\n",
       "      <th>Mar</th>\n",
       "      <td>9613</td>\n",
       "    </tr>\n",
       "    <tr>\n",
       "      <th>Out</th>\n",
       "      <td>9913</td>\n",
       "    </tr>\n",
       "    <tr>\n",
       "      <th>Abr</th>\n",
       "      <td>9952</td>\n",
       "    </tr>\n",
       "    <tr>\n",
       "      <th>Mai</th>\n",
       "      <td>10156</td>\n",
       "    </tr>\n",
       "    <tr>\n",
       "      <th>Nov</th>\n",
       "      <td>10164</td>\n",
       "    </tr>\n",
       "    <tr>\n",
       "      <th>Jan</th>\n",
       "      <td>10480</td>\n",
       "    </tr>\n",
       "  </tbody>\n",
       "</table>\n",
       "</div>"
      ],
      "text/plain": [
       "       number\n",
       "month        \n",
       "Set      1598\n",
       "Ago      4714\n",
       "Jun      7084\n",
       "Jul      7455\n",
       "Fev      7456\n",
       "Dez      7593\n",
       "Mar      9613\n",
       "Out      9913\n",
       "Abr      9952\n",
       "Mai     10156\n",
       "Nov     10164\n",
       "Jan     10480"
      ]
     },
     "execution_count": 43,
     "metadata": {},
     "output_type": "execute_result"
    }
   ],
   "source": [
    "mt_month = df[['state','month','number']]\n",
    "mt_month = mt_month[mt_month['state'] == 'MT'].groupby(by=['month']).sum().sort_values('number', ascending=True)\n",
    "mt_month"
   ]
  },
  {
   "cell_type": "markdown",
   "id": "8f14cfb4",
   "metadata": {},
   "source": [
    "<font size=\"2\" face=\"Verdana\"> Com essa divisão dos dados podemos observar que a maior quantidade relatos de **1998** a **2017** foram nos meses de Janeiro, Novembro, Maio, Abril, Outubro e Março, ou seja, os maiores casos ocorreram no fim e inicio do ano e nos meses subsequentes, englobando todo o verão. </font>"
   ]
  },
  {
   "cell_type": "code",
   "execution_count": 70,
   "id": "dc327da4",
   "metadata": {},
   "outputs": [
    {
     "data": {
      "image/png": "[encoded data removed]",
      "text/plain": [
       "<Figure size 1008x432 with 1 Axes>"
      ]
     },
     "metadata": {
      "needs_background": "light"
     },
     "output_type": "display_data"
    }
   ],
   "source": [
    "fig, ax = plt.subplots(figsize=(14,6))\n",
    "mt_month.plot(kind='barh', width=0.8, ax=ax, color=cinza)\n",
    "ax.set_ylabel('Meses')\n",
    "ax.set_xlabel('Quantidade de Relatos')\n",
    "ax.get_legend().remove()\n",
    "\n",
    "# Remover grid\n",
    "ax.spines['right'].set_visible(False)\n",
    "ax.spines['top'].set_visible(False)\n",
    "\n",
    "# Título\n",
    "plt.text(0, 14, \n",
    "        \"Meses com mais relatos no Mato Grosso\",\n",
    "        fontsize=18,\n",
    "        color='black',\n",
    "        weight='bold')\n",
    "\n",
    "# Subtítulo\n",
    "plt.text(0,13,\n",
    "        \"Total de relatos por mês entre 1998 e 2017 do estado do Mato Grosso\",\n",
    "        fontsize=14,\n",
    "        color=cinza)\n",
    "\n",
    "# Valor de destaque\n",
    "plt.text(10600, 10.8,\n",
    "        \"10.480\",\n",
    "        fontsize=14,\n",
    "        color=vermelho)\n",
    "\n",
    "plt.text(10300, 9.8,\n",
    "        \"10.164\",\n",
    "        fontsize=14,\n",
    "        color=vermelho)\n",
    "\n",
    "plt.text(10300, 8.8,\n",
    "        \"10.156\",\n",
    "        fontsize=14,\n",
    "        color=vermelho)\n",
    "\n",
    "plt.text(10100, 7.8,\n",
    "        \"9.952\",\n",
    "        fontsize=14,\n",
    "        color=vermelho)\n",
    "\n",
    "plt.text(10070, 6.8,\n",
    "        \"9.913\",\n",
    "        fontsize=14,\n",
    "        color=vermelho)\n",
    "\n",
    "plt.text(9790, 5.8,\n",
    "        \"9.613\",\n",
    "        fontsize=14,\n",
    "        color=vermelho)\n",
    "\n",
    "# Texto em destaque\n",
    "plt.text(7800, 2,\n",
    "        \"Os meses com maior quantidade de relatos\\n\"\n",
    "        \"do estado do Mato Grosso - MT são Janeiro,\\n\" \n",
    "        \"Novembro, Maio, Abril, Outubro e Março\",\n",
    "        fontsize=12,\n",
    "        color=vermelho)\n",
    "\n",
    "plt.xticks(rotation = 0, ha='center')\n",
    "ax.get_children()[11].set_color(vermelho)\n",
    "ax.get_children()[10].set_color(vermelho) \n",
    "ax.get_children()[9].set_color(vermelho) \n",
    "ax.get_children()[8].set_color(vermelho) \n",
    "ax.get_children()[7].set_color(vermelho) \n",
    "ax.get_children()[6].set_color(vermelho) \n",
    "plt.tight_layout()"
   ]
  },
  {
   "cell_type": "markdown",
   "id": "3fe5153d",
   "metadata": {},
   "source": [
    "# Conclusão"
   ]
  },
  {
   "cell_type": "markdown",
   "id": "c68c8271",
   "metadata": {},
   "source": [
    "<font size=\"2\" face=\"Verdana\"> Todos sabemos que a maioria das queimadas são causadas por atividades criminosas em busca de abrir espaços naquelas regiões, para pasto e plantio. O Brasil como um todo a cada ano enfrenta cada vez mais esse tipo de problema. O Desmatamento e a degradação da fauna e flora precisam ser combatidos e investigar e analisar os dados são fundamentais para entender a sitação e aplicar melhorias no combate a esse tipo de crime.\n",
    "    \n",
    "Com a base de dados utilizada, foi possível obter algumas conclusões:\n",
    "<br><br>\n",
    "* Podemos observar que com o decorrer dos anos, a frequência de queda nos relatos vem diminuindo, isso mostra um crescimento gradual no número de incêndios.\n",
    "* Vemos também que ao analisar todo o país, não existe uma frequência clara de ocorrência no verão, que deveria se o mês com mais relatos, no entanto, percebemos que as maiores ocorrências foram antes dessa estação.\n",
    "* O estado do Mato Grosso é o mais afetado de acordo com os dados do dataset, mesmo tendo o bioma pantanal, característico por alagamentos, o que acaba sendo contraditório, o que pode ser explicado por crimes ambientais, por ser uma região fertil.\n",
    "    \n",
    "Com isso concluo a análise\n",
    "</font>"
   ]
  }
 ],
 "metadata": {
  "kernelspec": {
   "display_name": "Python 3",
   "language": "python",
   "name": "python3"
  },
  "language_info": {
   "codemirror_mode": {
    "name": "ipython",
    "version": 3
   },
   "file_extension": ".py",
   "mimetype": "text/x-python",
   "name": "python",
   "nbconvert_exporter": "python",
   "pygments_lexer": "ipython3",
   "version": "3.8.8"
  },
  "varInspector": {
   "cols": {
    "lenName": 16,
    "lenType": 16,
    "lenVar": 40
   },
   "kernels_config": {
    "python": {
     "delete_cmd_postfix": "",
     "delete_cmd_prefix": "del ",
     "library": "var_list.py",
     "varRefreshCmd": "print(var_dic_list())"
    },
    "r": {
     "delete_cmd_postfix": ") ",
     "delete_cmd_prefix": "rm(",
     "library": "var_list.r",
     "varRefreshCmd": "cat(var_dic_list()) "
    }
   },
   "types_to_exclude": [
    "module",
    "function",
    "builtin_function_or_method",
    "instance",
    "_Feature"
   ],
   "window_display": false
  }
 },
 "nbformat": 4,
 "nbformat_minor": 5
}
