{
 "cells": [
  {
   "cell_type": "markdown",
   "id": "92d44b41",
   "metadata": {},
   "source": [
    "<h1><b><center>Valor de Imóveis em São Paulo - Abril de 2019</center></b></h1>"
   ]
  },
  {
   "cell_type": "markdown",
   "id": "050e93ed",
   "metadata": {},
   "source": [
    "---\n",
    "<font size=\"2\" face=\"Verdana\"> <p>O Estado de **São Paulo** é o estado mais populoso do Brasil, com uma média de 46 milhões de habitantes, sendo sua capital, de mesmo nome, a cidade com a maior concentração dos moradores. Situada na região **Sudoeste** do País, possui uma área territorial em média de **248.219,481 KM²**, segundo uma estimativa do IBGE realizada em 2020.<br><br>\n",
    "Com clima tropical com invernos mais amenos e verões mais quentes, São Paulo é o principal destino dos brasileiros que buscam novas oportunidades, principalmente de trabalho, principalmente por sua extensão, mas também por comportar as maiores empresas e organizações da américa latina.<br><br>\n",
    "Com essa alta demanda, encontrar uma moradia acaba se tornando um grande desafio, tanto pela variedade de opções quanto pelo custo de vida. Com base em dados coletados e disponibilizados pela startup [Openi Minded](https://openimob.com/) do mês de Abril de 2019 farei uma análise e contruirei um modelo para predição dos valores de venda de apartamentos.\n",
    "\n",
    "Por: **Felipe Alves Cardozo**</font>\n",
    "\n",
    "<p  align=center><br><img src='https://www.flytap.com/-/media/Flytap/new-tap-pages/destinations/south-america/brazil/sao-paulo/sao-paulo-banner-mobile-1024x553.jpg' widht='100%'></p>"
   ]
  },
  {
   "cell_type": "markdown",
   "id": "55fed05d",
   "metadata": {},
   "source": [
    "# Importação dos Dados\n",
    "\n",
    "\n",
    "Conforme citado, neste projeto, farei a análise dos dados referentes a venda de apartamentos em São Paulo, especificamente do período de Abril de 2019."
   ]
  },
  {
   "cell_type": "code",
   "execution_count": 26,
   "id": "e21a54eb",
   "metadata": {},
   "outputs": [],
   "source": [
    "# Importando as bibliotecas necessárias\n",
    "import pandas as pd\n",
    "import numpy as np\n",
    "import matplotlib.pyplot as plt\n",
    "from sklearn.ensemble import RandomForestRegressor\n",
    "from sklearn.model_selection import train_test_split\n",
    "from sklearn.metrics import r2_score, mean_squared_error, mean_absolute_error, accuracy_score\n",
    "from xgboost import XGBRegressor\n",
    "\n",
    "import warnings\n",
    "warnings.simplefilter(action='ignore', category=FutureWarning)"
   ]
  },
  {
   "cell_type": "code",
   "execution_count": 2,
   "id": "743113c6",
   "metadata": {},
   "outputs": [
    {
     "data": {
      "text/html": [
       "<div>\n",
       "<style scoped>\n",
       "    .dataframe tbody tr th:only-of-type {\n",
       "        vertical-align: middle;\n",
       "    }\n",
       "\n",
       "    .dataframe tbody tr th {\n",
       "        vertical-align: top;\n",
       "    }\n",
       "\n",
       "    .dataframe thead th {\n",
       "        text-align: right;\n",
       "    }\n",
       "</style>\n",
       "<table border=\"1\" class=\"dataframe\">\n",
       "  <thead>\n",
       "    <tr style=\"text-align: right;\">\n",
       "      <th></th>\n",
       "      <th>Price</th>\n",
       "      <th>Condo</th>\n",
       "      <th>Size</th>\n",
       "      <th>Rooms</th>\n",
       "      <th>Toilets</th>\n",
       "      <th>Suites</th>\n",
       "      <th>Parking</th>\n",
       "      <th>Elevator</th>\n",
       "      <th>Furnished</th>\n",
       "      <th>Swimming Pool</th>\n",
       "      <th>New</th>\n",
       "      <th>District</th>\n",
       "      <th>Negotiation Type</th>\n",
       "      <th>Property Type</th>\n",
       "      <th>Latitude</th>\n",
       "      <th>Longitude</th>\n",
       "    </tr>\n",
       "  </thead>\n",
       "  <tbody>\n",
       "    <tr>\n",
       "      <th>0</th>\n",
       "      <td>930</td>\n",
       "      <td>220</td>\n",
       "      <td>47</td>\n",
       "      <td>2</td>\n",
       "      <td>2</td>\n",
       "      <td>1</td>\n",
       "      <td>1</td>\n",
       "      <td>0</td>\n",
       "      <td>0</td>\n",
       "      <td>0</td>\n",
       "      <td>0</td>\n",
       "      <td>Artur Alvim/São Paulo</td>\n",
       "      <td>rent</td>\n",
       "      <td>apartment</td>\n",
       "      <td>-23.543138</td>\n",
       "      <td>-46.479486</td>\n",
       "    </tr>\n",
       "    <tr>\n",
       "      <th>1</th>\n",
       "      <td>1000</td>\n",
       "      <td>148</td>\n",
       "      <td>45</td>\n",
       "      <td>2</td>\n",
       "      <td>2</td>\n",
       "      <td>1</td>\n",
       "      <td>1</td>\n",
       "      <td>0</td>\n",
       "      <td>0</td>\n",
       "      <td>0</td>\n",
       "      <td>0</td>\n",
       "      <td>Artur Alvim/São Paulo</td>\n",
       "      <td>rent</td>\n",
       "      <td>apartment</td>\n",
       "      <td>-23.550239</td>\n",
       "      <td>-46.480718</td>\n",
       "    </tr>\n",
       "    <tr>\n",
       "      <th>2</th>\n",
       "      <td>1000</td>\n",
       "      <td>100</td>\n",
       "      <td>48</td>\n",
       "      <td>2</td>\n",
       "      <td>2</td>\n",
       "      <td>1</td>\n",
       "      <td>1</td>\n",
       "      <td>0</td>\n",
       "      <td>0</td>\n",
       "      <td>0</td>\n",
       "      <td>0</td>\n",
       "      <td>Artur Alvim/São Paulo</td>\n",
       "      <td>rent</td>\n",
       "      <td>apartment</td>\n",
       "      <td>-23.542818</td>\n",
       "      <td>-46.485665</td>\n",
       "    </tr>\n",
       "    <tr>\n",
       "      <th>3</th>\n",
       "      <td>1000</td>\n",
       "      <td>200</td>\n",
       "      <td>48</td>\n",
       "      <td>2</td>\n",
       "      <td>2</td>\n",
       "      <td>1</td>\n",
       "      <td>1</td>\n",
       "      <td>0</td>\n",
       "      <td>0</td>\n",
       "      <td>0</td>\n",
       "      <td>0</td>\n",
       "      <td>Artur Alvim/São Paulo</td>\n",
       "      <td>rent</td>\n",
       "      <td>apartment</td>\n",
       "      <td>-23.547171</td>\n",
       "      <td>-46.483014</td>\n",
       "    </tr>\n",
       "    <tr>\n",
       "      <th>4</th>\n",
       "      <td>1300</td>\n",
       "      <td>410</td>\n",
       "      <td>55</td>\n",
       "      <td>2</td>\n",
       "      <td>2</td>\n",
       "      <td>1</td>\n",
       "      <td>1</td>\n",
       "      <td>1</td>\n",
       "      <td>0</td>\n",
       "      <td>0</td>\n",
       "      <td>0</td>\n",
       "      <td>Artur Alvim/São Paulo</td>\n",
       "      <td>rent</td>\n",
       "      <td>apartment</td>\n",
       "      <td>-23.525025</td>\n",
       "      <td>-46.482436</td>\n",
       "    </tr>\n",
       "  </tbody>\n",
       "</table>\n",
       "</div>"
      ],
      "text/plain": [
       "   Price  Condo  Size  Rooms  Toilets  Suites  Parking  Elevator  Furnished  \\\n",
       "0    930    220    47      2        2       1        1         0          0   \n",
       "1   1000    148    45      2        2       1        1         0          0   \n",
       "2   1000    100    48      2        2       1        1         0          0   \n",
       "3   1000    200    48      2        2       1        1         0          0   \n",
       "4   1300    410    55      2        2       1        1         1          0   \n",
       "\n",
       "   Swimming Pool  New               District Negotiation Type Property Type  \\\n",
       "0              0    0  Artur Alvim/São Paulo             rent     apartment   \n",
       "1              0    0  Artur Alvim/São Paulo             rent     apartment   \n",
       "2              0    0  Artur Alvim/São Paulo             rent     apartment   \n",
       "3              0    0  Artur Alvim/São Paulo             rent     apartment   \n",
       "4              0    0  Artur Alvim/São Paulo             rent     apartment   \n",
       "\n",
       "    Latitude  Longitude  \n",
       "0 -23.543138 -46.479486  \n",
       "1 -23.550239 -46.480718  \n",
       "2 -23.542818 -46.485665  \n",
       "3 -23.547171 -46.483014  \n",
       "4 -23.525025 -46.482436  "
      ]
     },
     "execution_count": 2,
     "metadata": {},
     "output_type": "execute_result"
    }
   ],
   "source": [
    "# Importando os dados a serem analisados\n",
    "dataset = pd.read_csv('sao-paulo-properties-april-2019.csv')\n",
    "dataset.head()"
   ]
  },
  {
   "cell_type": "markdown",
   "id": "09031059",
   "metadata": {},
   "source": [
    "# Criando o modelo"
   ]
  },
  {
   "cell_type": "code",
   "execution_count": 5,
   "id": "a58ce58e",
   "metadata": {},
   "outputs": [
    {
     "data": {
      "text/html": [
       "<div>\n",
       "<style scoped>\n",
       "    .dataframe tbody tr th:only-of-type {\n",
       "        vertical-align: middle;\n",
       "    }\n",
       "\n",
       "    .dataframe tbody tr th {\n",
       "        vertical-align: top;\n",
       "    }\n",
       "\n",
       "    .dataframe thead th {\n",
       "        text-align: right;\n",
       "    }\n",
       "</style>\n",
       "<table border=\"1\" class=\"dataframe\">\n",
       "  <thead>\n",
       "    <tr style=\"text-align: right;\">\n",
       "      <th></th>\n",
       "      <th>Price</th>\n",
       "      <th>Condo</th>\n",
       "      <th>Size</th>\n",
       "      <th>Rooms</th>\n",
       "      <th>Toilets</th>\n",
       "      <th>Suites</th>\n",
       "      <th>Parking</th>\n",
       "      <th>Elevator</th>\n",
       "      <th>Furnished</th>\n",
       "      <th>Swimming Pool</th>\n",
       "      <th>New</th>\n",
       "      <th>District</th>\n",
       "    </tr>\n",
       "  </thead>\n",
       "  <tbody>\n",
       "    <tr>\n",
       "      <th>4901</th>\n",
       "      <td>732600</td>\n",
       "      <td>1000</td>\n",
       "      <td>74</td>\n",
       "      <td>1</td>\n",
       "      <td>2</td>\n",
       "      <td>1</td>\n",
       "      <td>2</td>\n",
       "      <td>1</td>\n",
       "      <td>0</td>\n",
       "      <td>1</td>\n",
       "      <td>0</td>\n",
       "      <td>Vila Madalena</td>\n",
       "    </tr>\n",
       "    <tr>\n",
       "      <th>4902</th>\n",
       "      <td>1990000</td>\n",
       "      <td>2400</td>\n",
       "      <td>164</td>\n",
       "      <td>4</td>\n",
       "      <td>5</td>\n",
       "      <td>2</td>\n",
       "      <td>3</td>\n",
       "      <td>1</td>\n",
       "      <td>1</td>\n",
       "      <td>1</td>\n",
       "      <td>0</td>\n",
       "      <td>Vila Madalena</td>\n",
       "    </tr>\n",
       "    <tr>\n",
       "      <th>4903</th>\n",
       "      <td>720000</td>\n",
       "      <td>700</td>\n",
       "      <td>70</td>\n",
       "      <td>2</td>\n",
       "      <td>2</td>\n",
       "      <td>1</td>\n",
       "      <td>1</td>\n",
       "      <td>1</td>\n",
       "      <td>0</td>\n",
       "      <td>1</td>\n",
       "      <td>1</td>\n",
       "      <td>Vila Madalena</td>\n",
       "    </tr>\n",
       "    <tr>\n",
       "      <th>4904</th>\n",
       "      <td>1680000</td>\n",
       "      <td>1580</td>\n",
       "      <td>155</td>\n",
       "      <td>3</td>\n",
       "      <td>5</td>\n",
       "      <td>3</td>\n",
       "      <td>2</td>\n",
       "      <td>1</td>\n",
       "      <td>0</td>\n",
       "      <td>1</td>\n",
       "      <td>0</td>\n",
       "      <td>Vila Madalena</td>\n",
       "    </tr>\n",
       "    <tr>\n",
       "      <th>4905</th>\n",
       "      <td>1200000</td>\n",
       "      <td>900</td>\n",
       "      <td>56</td>\n",
       "      <td>2</td>\n",
       "      <td>2</td>\n",
       "      <td>1</td>\n",
       "      <td>2</td>\n",
       "      <td>0</td>\n",
       "      <td>1</td>\n",
       "      <td>1</td>\n",
       "      <td>0</td>\n",
       "      <td>Vila Madalena</td>\n",
       "    </tr>\n",
       "  </tbody>\n",
       "</table>\n",
       "</div>"
      ],
      "text/plain": [
       "        Price  Condo  Size  Rooms  Toilets  Suites  Parking  Elevator  \\\n",
       "4901   732600   1000    74      1        2       1        2         1   \n",
       "4902  1990000   2400   164      4        5       2        3         1   \n",
       "4903   720000    700    70      2        2       1        1         1   \n",
       "4904  1680000   1580   155      3        5       3        2         1   \n",
       "4905  1200000    900    56      2        2       1        2         0   \n",
       "\n",
       "      Furnished  Swimming Pool  New       District  \n",
       "4901          0              1    0  Vila Madalena  \n",
       "4902          1              1    0  Vila Madalena  \n",
       "4903          0              1    1  Vila Madalena  \n",
       "4904          0              1    0  Vila Madalena  \n",
       "4905          1              1    0  Vila Madalena  "
      ]
     },
     "execution_count": 5,
     "metadata": {},
     "output_type": "execute_result"
    }
   ],
   "source": [
    "# Apagando a string \"/São Paulo\" da coluna District\n",
    "dataset1 = dataset.copy()\n",
    "\n",
    "# Corrigindo o nome do bairro\n",
    "dataset1['District'] = dataset1['District'].apply(lambda x: x.split('/')[0])\n",
    "\n",
    "# Removendo as colunas 'Latitude', 'Longitude' e 'Property Type'\n",
    "dataset1.drop(['Property Type', 'Latitude', 'Longitude'], axis=1, inplace=True)\n",
    "\n",
    "# Filtrando o dataset para utilizarmos apenas vendas\n",
    "dataset2 = dataset1[dataset1['Negotiation Type'] == 'sale'].copy()\n",
    "dataset2.drop(['Negotiation Type'], axis=1, inplace=True)\n",
    "\n",
    "# Vendo as primeiras entradas\n",
    "dataset2.head()"
   ]
  },
  {
   "cell_type": "code",
   "execution_count": 38,
   "id": "39d0a84b",
   "metadata": {},
   "outputs": [
    {
     "name": "stdout",
     "output_type": "stream",
     "text": [
      "r2: 0.90%\n",
      "MAE: 103876.94\n",
      "MSE: 55106333820.26\n"
     ]
    }
   ],
   "source": [
    "# Separando as variáveis X e y\n",
    "X = dataset2.drop('Price', axis=1)\n",
    "y = dataset2['Price']\n",
    "\n",
    "# Separando teste e treino\n",
    "X_train, X_test, y_train, y_test = train_test_split(X, y, test_size=0.33)\n",
    "\n",
    "# Treinando o modelo\n",
    "model = XGBRegressor(random_state=42)\n",
    "model.fit(X_train, y_train)\n",
    "\n",
    "# Fazendo a previsão\n",
    "previsao = model.predict(X_test)\n",
    "\n",
    "# Avaliação\n",
    "print(f'r2: {r2_score(y_test, previsao):.2f}%')\n",
    "print(f'MAE: {mean_absolute_error(y_test, previsao):.2f}')\n",
    "print(f'MSE: {mean_squared_error(y_test, previsao):.2f}')       "
   ]
  },
  {
   "cell_type": "markdown",
   "id": "9de39694",
   "metadata": {},
   "source": [
    "# Salvando o Modelo"
   ]
  },
  {
   "cell_type": "code",
   "execution_count": 49,
   "id": "e58fc219",
   "metadata": {},
   "outputs": [],
   "source": [
    "# Salvando o modelo em formato Pkl\n",
    "import pickle\n",
    "\n",
    "with open('modelo.pkl', 'wb') as file:\n",
    "    pickle.dump(model, file)"
   ]
  },
  {
   "cell_type": "code",
   "execution_count": 47,
   "id": "b4c8e4c1",
   "metadata": {},
   "outputs": [
    {
     "data": {
      "text/plain": [
       "xgboost.sklearn.XGBRegressor"
      ]
     },
     "execution_count": 47,
     "metadata": {},
     "output_type": "execute_result"
    }
   ],
   "source": [
    "type(model)"
   ]
  },
  {
   "cell_type": "code",
   "execution_count": 40,
   "id": "011ffe68",
   "metadata": {},
   "outputs": [],
   "source": [
    "# Salvando o nome das colunas\n",
    "colunas = X_train.columns.values\n",
    "\n",
    "with open('colunas.names', 'wb') as file:\n",
    "    pickle.dump(colunas, file)"
   ]
  },
  {
   "cell_type": "markdown",
   "id": "b7377e6e",
   "metadata": {},
   "source": [
    "# Carregando o Modelo"
   ]
  },
  {
   "cell_type": "code",
   "execution_count": 50,
   "id": "540fde89",
   "metadata": {},
   "outputs": [],
   "source": [
    "with open('modelo.pkl', 'rb') as file:\n",
    "    modelo_importado = pickle.load(file)"
   ]
  },
  {
   "cell_type": "code",
   "execution_count": 51,
   "id": "d56c9869",
   "metadata": {},
   "outputs": [
    {
     "data": {
      "text/plain": [
       "xgboost.sklearn.XGBRegressor"
      ]
     },
     "execution_count": 51,
     "metadata": {},
     "output_type": "execute_result"
    }
   ],
   "source": [
    "type(modelo_importado)"
   ]
  }
 ],
 "metadata": {
  "kernelspec": {
   "display_name": "Python 3",
   "language": "python",
   "name": "python3"
  },
  "language_info": {
   "codemirror_mode": {
    "name": "ipython",
    "version": 3
   },
   "file_extension": ".py",
   "mimetype": "text/x-python",
   "name": "python",
   "nbconvert_exporter": "python",
   "pygments_lexer": "ipython3",
   "version": "3.8.8"
  },
  "varInspector": {
   "cols": {
    "lenName": 16,
    "lenType": 16,
    "lenVar": 40
   },
   "kernels_config": {
    "python": {
     "delete_cmd_postfix": "",
     "delete_cmd_prefix": "del ",
     "library": "var_list.py",
     "varRefreshCmd": "print(var_dic_list())"
    },
    "r": {
     "delete_cmd_postfix": ") ",
     "delete_cmd_prefix": "rm(",
     "library": "var_list.r",
     "varRefreshCmd": "cat(var_dic_list()) "
    }
   },
   "types_to_exclude": [
    "module",
    "function",
    "builtin_function_or_method",
    "instance",
    "_Feature"
   ],
   "window_display": false
  }
 },
 "nbformat": 4,
 "nbformat_minor": 5
}
